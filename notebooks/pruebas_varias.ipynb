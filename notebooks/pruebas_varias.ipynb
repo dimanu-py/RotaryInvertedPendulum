{
 "cells": [
  {
   "cell_type": "code",
   "execution_count": 7,
   "outputs": [],
   "source": [
    "folder_path = r'C:\\PROGRAMACION\\PENDULO INVERTIDO\\Pendulo Invertido Diego\\Python-Furuta-Pendulum\\data\\datasets'\n",
    "file_name = 'synthetic_data'"
   ],
   "metadata": {
    "collapsed": false
   }
  },
  {
   "cell_type": "code",
   "execution_count": 8,
   "outputs": [],
   "source": [
    "data = load_parquet(path=folder_path,\n",
    "                    file=file_name)"
   ],
   "metadata": {
    "collapsed": false
   }
  },
  {
   "cell_type": "code",
   "execution_count": 9,
   "outputs": [
    {
     "data": {
      "text/plain": "(50000001, 8)"
     },
     "execution_count": 9,
     "metadata": {},
     "output_type": "execute_result"
    }
   ],
   "source": [
    "data.shape"
   ],
   "metadata": {
    "collapsed": false
   }
  },
  {
   "cell_type": "code",
   "execution_count": 10,
   "outputs": [
    {
     "data": {
      "text/plain": "    time  set_point_rotary_arm  control_law  position_rotary_arm  \\\n0  0.000             -0.349066     4.188790             0.000000   \n1  0.002             -0.349066     4.188790             0.000000   \n2  0.004             -0.349066     3.998701             0.000848   \n3  0.006             -0.349066     3.663738             0.002524   \n4  0.008             -0.349066     3.227426             0.004967   \n\n   position_pendulum_wrapped  speed_rotary_arm  speed_pendulum  \\\n0                   0.000000          0.000000        0.000000   \n1                   0.000000          0.424217        0.419284   \n2                   0.000839          0.837618        0.827563   \n3                   0.002494          1.221478        1.206530   \n4                   0.004907          1.562109        1.542870   \n\n   position_pendulum  \n0           3.141593  \n1           3.141593  \n2           3.142431  \n3           3.144086  \n4           3.146499  ",
      "text/html": "<div>\n<style scoped>\n    .dataframe tbody tr th:only-of-type {\n        vertical-align: middle;\n    }\n\n    .dataframe tbody tr th {\n        vertical-align: top;\n    }\n\n    .dataframe thead th {\n        text-align: right;\n    }\n</style>\n<table border=\"1\" class=\"dataframe\">\n  <thead>\n    <tr style=\"text-align: right;\">\n      <th></th>\n      <th>time</th>\n      <th>set_point_rotary_arm</th>\n      <th>control_law</th>\n      <th>position_rotary_arm</th>\n      <th>position_pendulum_wrapped</th>\n      <th>speed_rotary_arm</th>\n      <th>speed_pendulum</th>\n      <th>position_pendulum</th>\n    </tr>\n  </thead>\n  <tbody>\n    <tr>\n      <th>0</th>\n      <td>0.000</td>\n      <td>-0.349066</td>\n      <td>4.188790</td>\n      <td>0.000000</td>\n      <td>0.000000</td>\n      <td>0.000000</td>\n      <td>0.000000</td>\n      <td>3.141593</td>\n    </tr>\n    <tr>\n      <th>1</th>\n      <td>0.002</td>\n      <td>-0.349066</td>\n      <td>4.188790</td>\n      <td>0.000000</td>\n      <td>0.000000</td>\n      <td>0.424217</td>\n      <td>0.419284</td>\n      <td>3.141593</td>\n    </tr>\n    <tr>\n      <th>2</th>\n      <td>0.004</td>\n      <td>-0.349066</td>\n      <td>3.998701</td>\n      <td>0.000848</td>\n      <td>0.000839</td>\n      <td>0.837618</td>\n      <td>0.827563</td>\n      <td>3.142431</td>\n    </tr>\n    <tr>\n      <th>3</th>\n      <td>0.006</td>\n      <td>-0.349066</td>\n      <td>3.663738</td>\n      <td>0.002524</td>\n      <td>0.002494</td>\n      <td>1.221478</td>\n      <td>1.206530</td>\n      <td>3.144086</td>\n    </tr>\n    <tr>\n      <th>4</th>\n      <td>0.008</td>\n      <td>-0.349066</td>\n      <td>3.227426</td>\n      <td>0.004967</td>\n      <td>0.004907</td>\n      <td>1.562109</td>\n      <td>1.542870</td>\n      <td>3.146499</td>\n    </tr>\n  </tbody>\n</table>\n</div>"
     },
     "execution_count": 10,
     "metadata": {},
     "output_type": "execute_result"
    }
   ],
   "source": [
    "data.head()"
   ],
   "metadata": {
    "collapsed": false
   }
  }
 ],
 "metadata": {
  "kernelspec": {
   "display_name": "Python 3",
   "language": "python",
   "name": "python3"
  },
  "language_info": {
   "codemirror_mode": {
    "name": "ipython",
    "version": 2
   },
   "file_extension": ".py",
   "mimetype": "text/x-python",
   "name": "python",
   "nbconvert_exporter": "python",
   "pygments_lexer": "ipython2",
   "version": "2.7.6"
  }
 },
 "nbformat": 4,
 "nbformat_minor": 0
}
