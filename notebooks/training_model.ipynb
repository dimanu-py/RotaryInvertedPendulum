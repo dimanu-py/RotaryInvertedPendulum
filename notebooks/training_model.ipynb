{
 "cells": [
  {
   "cell_type": "code",
   "execution_count": 1,
   "metadata": {
    "collapsed": true
   },
   "outputs": [],
   "source": [
    "import keras.utils\n",
    "import pandas as pd\n",
    "from sklearn.model_selection import train_test_split\n",
    "from tensorflow.keras import Sequential\n",
    "from tensorflow.keras.layers import Dense, Normalization, Input, LSTM\n",
    "import matplotlib.pyplot as plt\n",
    "import tensorflow as tf\n",
    "from sklearn.preprocessing import MinMaxScaler, StandardScaler\n",
    "import os"
   ]
  },
  {
   "cell_type": "code",
   "execution_count": 2,
   "outputs": [],
   "source": [
    "from source.workers.reader import DataReader\n",
    "from source.helpers.loader_factory import LoaderFactory\n",
    "from source.workers.splitter import DataSplitter\n",
    "from source.workers.scaler import DataScaler"
   ],
   "metadata": {
    "collapsed": false
   }
  },
  {
   "cell_type": "markdown",
   "source": [
    "# Load Data"
   ],
   "metadata": {
    "collapsed": false
   }
  },
  {
   "cell_type": "code",
   "execution_count": 3,
   "outputs": [],
   "source": [
    "data_folder_path = r'C:\\PROGRAMACION\\PENDULO INVERTIDO\\Pendulo Invertido Diego\\Python-Furuta-Pendulum\\data\\datasets'"
   ],
   "metadata": {
    "collapsed": false
   }
  },
  {
   "cell_type": "code",
   "execution_count": 4,
   "outputs": [],
   "source": [
    "loader = LoaderFactory(folder_path=data_folder_path)\n",
    "data_reader = DataReader(data_loader=loader)"
   ],
   "metadata": {
    "collapsed": false
   }
  },
  {
   "cell_type": "code",
   "execution_count": 5,
   "outputs": [],
   "source": [
    "raw_data = data_reader.read_data()"
   ],
   "metadata": {
    "collapsed": false
   }
  },
  {
   "cell_type": "code",
   "execution_count": 6,
   "outputs": [
    {
     "data": {
      "text/plain": "                              count      mean       std        min       25%  \\\ncontrol_law                100938.0 -0.065589  4.975401 -10.000000 -1.706507   \nposition_rotary_arm        100938.0 -0.025371  0.448112  -1.509437 -0.411107   \nposition_pendulum_wrapped  100938.0  0.004265  1.433323  -3.141593 -0.788466   \nspeed_rotary_arm           100938.0 -0.002084  3.327051 -13.648693 -1.049030   \nspeed_pendulum             100938.0  0.202134  9.414936 -27.392518 -2.702186   \n\n                                50%       75%        max  \ncontrol_law               -0.032990  1.635560  10.000000  \nposition_rotary_arm       -0.009204  0.303728   2.110758  \nposition_pendulum_wrapped -0.009204  0.855961   3.138525  \nspeed_rotary_arm          -0.004347  1.041877  15.827819  \nspeed_pendulum             0.102083  3.744968  27.456403  ",
      "text/html": "<div>\n<style scoped>\n    .dataframe tbody tr th:only-of-type {\n        vertical-align: middle;\n    }\n\n    .dataframe tbody tr th {\n        vertical-align: top;\n    }\n\n    .dataframe thead th {\n        text-align: right;\n    }\n</style>\n<table border=\"1\" class=\"dataframe\">\n  <thead>\n    <tr style=\"text-align: right;\">\n      <th></th>\n      <th>count</th>\n      <th>mean</th>\n      <th>std</th>\n      <th>min</th>\n      <th>25%</th>\n      <th>50%</th>\n      <th>75%</th>\n      <th>max</th>\n    </tr>\n  </thead>\n  <tbody>\n    <tr>\n      <th>control_law</th>\n      <td>100938.0</td>\n      <td>-0.065589</td>\n      <td>4.975401</td>\n      <td>-10.000000</td>\n      <td>-1.706507</td>\n      <td>-0.032990</td>\n      <td>1.635560</td>\n      <td>10.000000</td>\n    </tr>\n    <tr>\n      <th>position_rotary_arm</th>\n      <td>100938.0</td>\n      <td>-0.025371</td>\n      <td>0.448112</td>\n      <td>-1.509437</td>\n      <td>-0.411107</td>\n      <td>-0.009204</td>\n      <td>0.303728</td>\n      <td>2.110758</td>\n    </tr>\n    <tr>\n      <th>position_pendulum_wrapped</th>\n      <td>100938.0</td>\n      <td>0.004265</td>\n      <td>1.433323</td>\n      <td>-3.141593</td>\n      <td>-0.788466</td>\n      <td>-0.009204</td>\n      <td>0.855961</td>\n      <td>3.138525</td>\n    </tr>\n    <tr>\n      <th>speed_rotary_arm</th>\n      <td>100938.0</td>\n      <td>-0.002084</td>\n      <td>3.327051</td>\n      <td>-13.648693</td>\n      <td>-1.049030</td>\n      <td>-0.004347</td>\n      <td>1.041877</td>\n      <td>15.827819</td>\n    </tr>\n    <tr>\n      <th>speed_pendulum</th>\n      <td>100938.0</td>\n      <td>0.202134</td>\n      <td>9.414936</td>\n      <td>-27.392518</td>\n      <td>-2.702186</td>\n      <td>0.102083</td>\n      <td>3.744968</td>\n      <td>27.456403</td>\n    </tr>\n  </tbody>\n</table>\n</div>"
     },
     "execution_count": 6,
     "metadata": {},
     "output_type": "execute_result"
    }
   ],
   "source": [
    "raw_data.describe().transpose()"
   ],
   "metadata": {
    "collapsed": false
   }
  },
  {
   "cell_type": "code",
   "execution_count": 7,
   "outputs": [
    {
     "name": "stdout",
     "output_type": "stream",
     "text": [
      "Shape: (100938, 5)\n",
      "Columns: Index(['control_law', 'position_rotary_arm', 'position_pendulum_wrapped',\n",
      "       'speed_rotary_arm', 'speed_pendulum'],\n",
      "      dtype='object')\n"
     ]
    }
   ],
   "source": [
    "print(f'Shape: {raw_data.shape}')\n",
    "print(f'Columns: {raw_data.columns}')"
   ],
   "metadata": {
    "collapsed": false
   }
  },
  {
   "cell_type": "markdown",
   "source": [
    "# Manage Raw Data"
   ],
   "metadata": {
    "collapsed": false
   }
  },
  {
   "cell_type": "code",
   "execution_count": 8,
   "outputs": [],
   "source": [
    "data_splitter = DataSplitter(dataset=raw_data)"
   ],
   "metadata": {
    "collapsed": false
   }
  },
  {
   "cell_type": "code",
   "execution_count": 9,
   "outputs": [],
   "source": [
    "train_data, train_target, validation_data, validation_target, test_data, test_target = data_splitter.split_data()"
   ],
   "metadata": {
    "collapsed": false
   }
  },
  {
   "cell_type": "code",
   "execution_count": 10,
   "outputs": [
    {
     "name": "stdout",
     "output_type": "stream",
     "text": [
      "Forma de X_train: (64600, 4)\n",
      "Forma de y_train: (64600, 1)\n",
      "Forma de X_val: (16150, 4)\n",
      "Forma de y_val: (16150, 1)\n",
      "Forma de X_test: (20188, 4)\n",
      "Forma de y_test: (20188, 1)\n"
     ]
    }
   ],
   "source": [
    "print(\"Forma de X_train:\", train_data.shape)\n",
    "print(\"Forma de y_train:\", train_target.shape)\n",
    "print(\"Forma de X_val:\", validation_data.shape)\n",
    "print(\"Forma de y_val:\", validation_target.shape)\n",
    "print(\"Forma de X_test:\", test_data.shape)\n",
    "print(\"Forma de y_test:\", test_target.shape)"
   ],
   "metadata": {
    "collapsed": false
   }
  },
  {
   "cell_type": "code",
   "execution_count": 11,
   "outputs": [],
   "source": [
    "def plot_data(data: pd.DataFrame, title: str, init: int = 0, end:int = 200) -> None:\n",
    "    fig, axs = plt.subplots(nrows=2, ncols=4, figsize=(10, 10))\n",
    "    axs = axs.flatten()\n",
    "\n",
    "    for idx, column in enumerate(data.columns):\n",
    "        axs[idx].plot(data[column][init:end])\n",
    "        axs[idx].set_title(column)\n",
    "\n",
    "    fig.subplots_adjust(hspace=0.4, wspace=0.6)\n",
    "    fig.suptitle(title)"
   ],
   "metadata": {
    "collapsed": false
   }
  },
  {
   "cell_type": "code",
   "execution_count": 14,
   "outputs": [
    {
     "data": {
      "text/plain": "<Figure size 1000x1000 with 8 Axes>",
      "image/png": "[encoded data removed]"
     },
     "metadata": {},
     "output_type": "display_data"
    }
   ],
   "source": [
    "plot_data(raw_data, 'Raw Data', end=5000)"
   ],
   "metadata": {
    "collapsed": false
   }
  },
  {
   "cell_type": "markdown",
   "source": [
    "# Apply MinMaxScaler to Data"
   ],
   "metadata": {
    "collapsed": false
   }
  },
  {
   "cell_type": "code",
   "execution_count": 10,
   "outputs": [],
   "source": [
    "min_max_scaler = DataScaler(feature_range=(0, 1))"
   ],
   "metadata": {
    "collapsed": false
   }
  },
  {
   "cell_type": "code",
   "execution_count": 11,
   "outputs": [],
   "source": [
    "min_max_scaler.fit_scaler(train_data=train_data)"
   ],
   "metadata": {
    "collapsed": false
   }
  },
  {
   "cell_type": "code",
   "execution_count": 12,
   "outputs": [],
   "source": [
    "scaled_train_data = min_max_scaler.transform(data=train_data)\n",
    "scaled_validation_data = min_max_scaler.transform(data=validation_data)\n",
    "scaled_test_data = min_max_scaler.transform(data=test_data)"
   ],
   "metadata": {
    "collapsed": false
   }
  },
  {
   "cell_type": "code",
   "execution_count": 19,
   "outputs": [],
   "source": [
    "# columns_to_scale = [column for column in data.columns]\n",
    "\n",
    "# min_max_scaler = MinMaxScaler(feature_range=(0, 1))\n",
    "# data_min_max_scaled = pd.DataFrame(min_max_scaler.fit_transform(data), column =columns_to_scale)\n",
    "\n",
    "# scaled_train_data, scaled_test_data, train_label, test_label = train_test_split(data_min_max_scaled, labels, test_size=0.2, shuffle=False)\n",
    "# scaled_train_data, scaled_val_data, train_label, val_label = train_test_split(scaled_train_data, train_label, test_size=0.2, shuffle=False)"
   ],
   "metadata": {
    "collapsed": false
   }
  },
  {
   "cell_type": "code",
   "execution_count": 14,
   "outputs": [
    {
     "data": {
      "text/plain": "                                count      mean       std  min       25%  \\\nset_point_rotary_arm       32000000.0  0.500000  0.500000  0.0  0.000000   \nposition_rotary_arm        32000000.0  0.500003  0.418187  0.0  0.073392   \nposition_pendulum_wrapped  32000000.0  0.500006  0.103861  0.0  0.496258   \nspeed_rotary_arm           32000000.0  0.500000  0.163647  0.0  0.497656   \nspeed_pendulum             32000000.0  0.500000  0.052474  0.0  0.499341   \n\n                                50%       75%  max  \nset_point_rotary_arm       0.500000  1.000000  1.0  \nposition_rotary_arm        0.498675  0.926619  1.0  \nposition_pendulum_wrapped  0.500006  0.503754  1.0  \nspeed_rotary_arm           0.499999  0.502341  1.0  \nspeed_pendulum             0.500000  0.500659  1.0  ",
      "text/html": "<div>\n<style scoped>\n    .dataframe tbody tr th:only-of-type {\n        vertical-align: middle;\n    }\n\n    .dataframe tbody tr th {\n        vertical-align: top;\n    }\n\n    .dataframe thead th {\n        text-align: right;\n    }\n</style>\n<table border=\"1\" class=\"dataframe\">\n  <thead>\n    <tr style=\"text-align: right;\">\n      <th></th>\n      <th>count</th>\n      <th>mean</th>\n      <th>std</th>\n      <th>min</th>\n      <th>25%</th>\n      <th>50%</th>\n      <th>75%</th>\n      <th>max</th>\n    </tr>\n  </thead>\n  <tbody>\n    <tr>\n      <th>set_point_rotary_arm</th>\n      <td>32000000.0</td>\n      <td>0.500000</td>\n      <td>0.500000</td>\n      <td>0.0</td>\n      <td>0.000000</td>\n      <td>0.500000</td>\n      <td>1.000000</td>\n      <td>1.0</td>\n    </tr>\n    <tr>\n      <th>position_rotary_arm</th>\n      <td>32000000.0</td>\n      <td>0.500003</td>\n      <td>0.418187</td>\n      <td>0.0</td>\n      <td>0.073392</td>\n      <td>0.498675</td>\n      <td>0.926619</td>\n      <td>1.0</td>\n    </tr>\n    <tr>\n      <th>position_pendulum_wrapped</th>\n      <td>32000000.0</td>\n      <td>0.500006</td>\n      <td>0.103861</td>\n      <td>0.0</td>\n      <td>0.496258</td>\n      <td>0.500006</td>\n      <td>0.503754</td>\n      <td>1.0</td>\n    </tr>\n    <tr>\n      <th>speed_rotary_arm</th>\n      <td>32000000.0</td>\n      <td>0.500000</td>\n      <td>0.163647</td>\n      <td>0.0</td>\n      <td>0.497656</td>\n      <td>0.499999</td>\n      <td>0.502341</td>\n      <td>1.0</td>\n    </tr>\n    <tr>\n      <th>speed_pendulum</th>\n      <td>32000000.0</td>\n      <td>0.500000</td>\n      <td>0.052474</td>\n      <td>0.0</td>\n      <td>0.499341</td>\n      <td>0.500000</td>\n      <td>0.500659</td>\n      <td>1.0</td>\n    </tr>\n  </tbody>\n</table>\n</div>"
     },
     "execution_count": 14,
     "metadata": {},
     "output_type": "execute_result"
    }
   ],
   "source": [
    "scaled_train_data.describe().transpose()"
   ],
   "metadata": {
    "collapsed": false
   }
  },
  {
   "cell_type": "code",
   "execution_count": 13,
   "outputs": [
    {
     "name": "stdout",
     "output_type": "stream",
     "text": [
      "Forma de X_train: (32000000, 5)\n",
      "Forma de y_train: (32000000, 1)\n",
      "Forma de X_val: (8000000, 5)\n",
      "Forma de y_val: (8000000, 1)\n",
      "Forma de X_test: (10000001, 5)\n",
      "Forma de y_test: (10000001, 1)\n"
     ]
    }
   ],
   "source": [
    "print(\"Forma de X_train:\", scaled_train_data.shape)\n",
    "print(\"Forma de y_train:\", train_target.shape)\n",
    "print(\"Forma de X_val:\", scaled_validation_data.shape)\n",
    "print(\"Forma de y_val:\", validation_target.shape)\n",
    "print(\"Forma de X_test:\", scaled_test_data.shape)\n",
    "print(\"Forma de y_test:\", test_target.shape)"
   ],
   "metadata": {
    "collapsed": false
   }
  },
  {
   "cell_type": "markdown",
   "source": [
    "# Apply StandardScaler to Data"
   ],
   "metadata": {
    "collapsed": false
   }
  },
  {
   "cell_type": "code",
   "execution_count": 14,
   "outputs": [],
   "source": [
    "standard_scaler = StandardScaler()\n",
    "data_standard_scaled = pd.DataFrame(standard_scaler.fit_transform(data), columns=columns_to_scale)"
   ],
   "metadata": {
    "collapsed": false
   }
  },
  {
   "cell_type": "code",
   "execution_count": 15,
   "outputs": [
    {
     "data": {
      "text/plain": "Index(['setpoint_rotary_arm', 'position_rotary_arm',\n       'position_pendulum_wrapped', 'speed_rotary_arm', 'speed_pendulum',\n       'position_pendulum'],\n      dtype='object')"
     },
     "execution_count": 15,
     "metadata": {},
     "output_type": "execute_result"
    }
   ],
   "source": [
    "data_standard_scaled.columns"
   ],
   "metadata": {
    "collapsed": false
   }
  },
  {
   "cell_type": "code",
   "execution_count": 16,
   "outputs": [],
   "source": [
    "important_standard_scaled_data = data_standard_scaled.drop(data_standard_scaled.columns[data_standard_scaled.columns.isin(['position_pendulum', 'speed_pendulum', 'speed_rotary_arm'])], axis=1)\n",
    "\n",
    "standard_scaled_train_data, standard_scaled_test_data, train_label, test_label = train_test_split(important_standard_scaled_data, labels, test_size=0.2, shuffle=False)\n",
    "standard_scaled_train_data, standard_scaled_val_data, train_label, val_label = train_test_split(standard_scaled_train_data, train_label, test_size=0.2, shuffle=False)"
   ],
   "metadata": {
    "collapsed": false
   }
  },
  {
   "cell_type": "code",
   "execution_count": 17,
   "outputs": [
    {
     "name": "stdout",
     "output_type": "stream",
     "text": [
      "Forma de X_train: (32000000, 3)\n",
      "Forma de y_train: (32000000,)\n",
      "Forma de X_val: (8000000, 3)\n",
      "Forma de y_val: (8000000,)\n",
      "Forma de X_test: (10000001, 3)\n",
      "Forma de y_test: (10000001,)\n"
     ]
    }
   ],
   "source": [
    "print(\"Forma de X_train:\", standard_scaled_train_data.shape)\n",
    "print(\"Forma de y_train:\", train_label.shape)\n",
    "print(\"Forma de X_val:\", standard_scaled_val_data.shape)\n",
    "print(\"Forma de y_val:\", val_label.shape)\n",
    "print(\"Forma de X_test:\", standard_scaled_test_data.shape)\n",
    "print(\"Forma de y_test:\", test_label.shape)"
   ],
   "metadata": {
    "collapsed": false
   }
  },
  {
   "cell_type": "code",
   "execution_count": 18,
   "outputs": [],
   "source": [
    "# train_dataset = complete_data.sample(frac= 0.8, random_state=0)\n",
    "# train_labels = train_dataset.pop('control_law')\n",
    "# test_dataset = complete_data.drop(train_dataset.index)\n",
    "# test_labels = test_dataset.pop('control_law')"
   ],
   "metadata": {
    "collapsed": false
   }
  },
  {
   "cell_type": "markdown",
   "source": [
    "# Build, Compile and Train the Model"
   ],
   "metadata": {
    "collapsed": false
   }
  },
  {
   "cell_type": "code",
   "execution_count": 11,
   "outputs": [],
   "source": [
    "def build_model():\n",
    "    model = Sequential()\n",
    "    model.add(Input(shape=(train_data.shape[1], )))\n",
    "    model.add(Dense(units=16,\n",
    "                    activation='relu'))\n",
    "    model.add(Dense(units=8,\n",
    "                    activation='relu'))\n",
    "    model.add(Dense(units=4,\n",
    "                    activation='relu'))\n",
    "    model.add(Dense(units=1,\n",
    "                    activation='linear'))\n",
    "\n",
    "    return model"
   ],
   "metadata": {
    "collapsed": false
   }
  },
  {
   "cell_type": "code",
   "execution_count": 11,
   "outputs": [],
   "source": [
    "def build_advanced_model():\n",
    "    inputs = Input(shape=(train_data.shape[1], ))\n",
    "    x = Dense(units=8,\n",
    "              activation='relu')(inputs)\n",
    "    x = Dense(units=4,\n",
    "              activation='relu')(x)\n",
    "    outputs = Dense(units=1,\n",
    "                    activation='linear')(x)\n",
    "    model = keras.Model(inputs=inputs,\n",
    "                        outputs=outputs)\n",
    "    return model"
   ],
   "metadata": {
    "collapsed": false
   }
  },
  {
   "cell_type": "code",
   "execution_count": 12,
   "outputs": [],
   "source": [
    "# advanced_model = build_advanced_model()\n",
    "# keras.utils.plot_model(advanced_model, show_shapes=True)"
   ],
   "metadata": {
    "collapsed": false
   }
  },
  {
   "cell_type": "code",
   "execution_count": 12,
   "outputs": [
    {
     "data": {
      "image/png": "[encoded data removed]",
      "text/plain": "<IPython.core.display.Image object>"
     },
     "execution_count": 12,
     "metadata": {},
     "output_type": "execute_result"
    }
   ],
   "source": [
    "model = build_model()\n",
    "keras.utils.plot_model(model, show_shapes=True)"
   ],
   "metadata": {
    "collapsed": false
   }
  },
  {
   "cell_type": "code",
   "execution_count": 17,
   "outputs": [
    {
     "name": "stdout",
     "output_type": "stream",
     "text": [
      "Model: \"sequential\"\n",
      "_________________________________________________________________\n",
      " Layer (type)                Output Shape              Param #   \n",
      "=================================================================\n",
      " dense (Dense)               (None, 16)                80        \n",
      "                                                                 \n",
      " dense_1 (Dense)             (None, 8)                 136       \n",
      "                                                                 \n",
      " dense_2 (Dense)             (None, 4)                 36        \n",
      "                                                                 \n",
      " dense_3 (Dense)             (None, 1)                 5         \n",
      "                                                                 \n",
      "=================================================================\n",
      "Total params: 257\n",
      "Trainable params: 257\n",
      "Non-trainable params: 0\n",
      "_________________________________________________________________\n"
     ]
    }
   ],
   "source": [
    "model.summary()"
   ],
   "metadata": {
    "collapsed": false
   }
  },
  {
   "cell_type": "code",
   "execution_count": 18,
   "outputs": [],
   "source": [
    "model.compile(loss=tf.keras.losses.mse,\n",
    "              optimizer=tf.keras.optimizers.Adam(learning_rate=0.001),\n",
    "              metrics=['mae'])"
   ],
   "metadata": {
    "collapsed": false
   }
  },
  {
   "cell_type": "code",
   "execution_count": 27,
   "outputs": [],
   "source": [
    "# advanced_model.compile(loss=tf.keras.losses.mse,\n",
    "#               optimizer=tf.keras.optimizers.Adam(learning_rate=0.001),\n",
    "#               metrics=['accuracy', 'mae'])"
   ],
   "metadata": {
    "collapsed": false
   }
  },
  {
   "cell_type": "code",
   "execution_count": 20,
   "outputs": [],
   "source": [
    "model_name = 'swing_up_real'\n",
    "checkpoint_dir = rf'C:\\PROGRAMACION\\PENDULO INVERTIDO\\Pendulo Invertido Diego\\Python-Furuta-Pendulum\\tmp\\checkpoint_{model_name}'\n",
    "\n",
    "checkpoint_callback = tf.keras.callbacks.ModelCheckpoint(filepath=checkpoint_dir,\n",
    "                                                         save_best_only=True)\n",
    "\n",
    "early_stop_callback = tf.keras.callbacks.EarlyStopping(monitor='val_loss',\n",
    "                                                       patience=5,\n",
    "                                                       verbose=1)"
   ],
   "metadata": {
    "collapsed": false
   }
  },
  {
   "cell_type": "code",
   "execution_count": 21,
   "outputs": [],
   "source": [
    "EPOCHS = 100\n",
    "BATCH_SIZE = 256\n",
    "retrain_model = False"
   ],
   "metadata": {
    "collapsed": false
   }
  },
  {
   "cell_type": "code",
   "execution_count": 22,
   "outputs": [],
   "source": [
    "if retrain_model:\n",
    "    model.load_weights(checkpoint_dir)"
   ],
   "metadata": {
    "collapsed": false
   }
  },
  {
   "cell_type": "code",
   "execution_count": 24,
   "outputs": [
    {
     "name": "stdout",
     "output_type": "stream",
     "text": [
      "Epoch 1/100\n",
      "207/253 [=======================>......] - ETA: 0s - loss: 21.7303 - mae: 3.0809"
     ]
    },
    {
     "name": "stderr",
     "output_type": "stream",
     "text": [
      "WARNING:absl:Found untraced functions such as _update_step_xla while saving (showing 1 of 1). These functions will not be directly callable after loading.\n"
     ]
    },
    {
     "name": "stdout",
     "output_type": "stream",
     "text": [
      "INFO:tensorflow:Assets written to: C:\\PROGRAMACION\\PENDULO INVERTIDO\\Pendulo Invertido Diego\\Python-Furuta-Pendulum\\tmp\\checkpoint_swing_up_real\\assets\n"
     ]
    },
    {
     "name": "stderr",
     "output_type": "stream",
     "text": [
      "INFO:tensorflow:Assets written to: C:\\PROGRAMACION\\PENDULO INVERTIDO\\Pendulo Invertido Diego\\Python-Furuta-Pendulum\\tmp\\checkpoint_swing_up_real\\assets\n"
     ]
    },
    {
     "name": "stdout",
     "output_type": "stream",
     "text": [
      "253/253 [==============================] - 2s 4ms/step - loss: 23.4370 - mae: 3.2721 - val_loss: 26.9052 - val_mae: 3.8588\n",
      "Epoch 2/100\n",
      "248/253 [============================>.] - ETA: 0s - loss: 19.5627 - mae: 2.9800"
     ]
    },
    {
     "name": "stderr",
     "output_type": "stream",
     "text": [
      "WARNING:absl:Found untraced functions such as _update_step_xla while saving (showing 1 of 1). These functions will not be directly callable after loading.\n"
     ]
    },
    {
     "name": "stdout",
     "output_type": "stream",
     "text": [
      "INFO:tensorflow:Assets written to: C:\\PROGRAMACION\\PENDULO INVERTIDO\\Pendulo Invertido Diego\\Python-Furuta-Pendulum\\tmp\\checkpoint_swing_up_real\\assets\n"
     ]
    },
    {
     "name": "stderr",
     "output_type": "stream",
     "text": [
      "INFO:tensorflow:Assets written to: C:\\PROGRAMACION\\PENDULO INVERTIDO\\Pendulo Invertido Diego\\Python-Furuta-Pendulum\\tmp\\checkpoint_swing_up_real\\assets\n"
     ]
    },
    {
     "name": "stdout",
     "output_type": "stream",
     "text": [
      "253/253 [==============================] - 1s 3ms/step - loss: 19.9470 - mae: 3.0267 - val_loss: 23.1171 - val_mae: 3.6114\n",
      "Epoch 3/100\n",
      "188/253 [=====================>........] - ETA: 0s - loss: 17.2136 - mae: 2.8001"
     ]
    },
    {
     "name": "stderr",
     "output_type": "stream",
     "text": [
      "WARNING:absl:Found untraced functions such as _update_step_xla while saving (showing 1 of 1). These functions will not be directly callable after loading.\n"
     ]
    },
    {
     "name": "stdout",
     "output_type": "stream",
     "text": [
      "INFO:tensorflow:Assets written to: C:\\PROGRAMACION\\PENDULO INVERTIDO\\Pendulo Invertido Diego\\Python-Furuta-Pendulum\\tmp\\checkpoint_swing_up_real\\assets\n"
     ]
    },
    {
     "name": "stderr",
     "output_type": "stream",
     "text": [
      "INFO:tensorflow:Assets written to: C:\\PROGRAMACION\\PENDULO INVERTIDO\\Pendulo Invertido Diego\\Python-Furuta-Pendulum\\tmp\\checkpoint_swing_up_real\\assets\n"
     ]
    },
    {
     "name": "stdout",
     "output_type": "stream",
     "text": [
      "253/253 [==============================] - 1s 3ms/step - loss: 17.9751 - mae: 2.8936 - val_loss: 20.5565 - val_mae: 3.3754\n",
      "Epoch 4/100\n",
      "216/253 [========================>.....] - ETA: 0s - loss: 15.1964 - mae: 2.6192"
     ]
    },
    {
     "name": "stderr",
     "output_type": "stream",
     "text": [
      "WARNING:absl:Found untraced functions such as _update_step_xla while saving (showing 1 of 1). These functions will not be directly callable after loading.\n"
     ]
    },
    {
     "name": "stdout",
     "output_type": "stream",
     "text": [
      "INFO:tensorflow:Assets written to: C:\\PROGRAMACION\\PENDULO INVERTIDO\\Pendulo Invertido Diego\\Python-Furuta-Pendulum\\tmp\\checkpoint_swing_up_real\\assets\n"
     ]
    },
    {
     "name": "stderr",
     "output_type": "stream",
     "text": [
      "INFO:tensorflow:Assets written to: C:\\PROGRAMACION\\PENDULO INVERTIDO\\Pendulo Invertido Diego\\Python-Furuta-Pendulum\\tmp\\checkpoint_swing_up_real\\assets\n"
     ]
    },
    {
     "name": "stdout",
     "output_type": "stream",
     "text": [
      "253/253 [==============================] - 1s 3ms/step - loss: 16.1714 - mae: 2.7561 - val_loss: 17.8519 - val_mae: 3.1470\n",
      "Epoch 5/100\n",
      "214/253 [========================>.....] - ETA: 0s - loss: 13.3946 - mae: 2.4890"
     ]
    },
    {
     "name": "stderr",
     "output_type": "stream",
     "text": [
      "WARNING:absl:Found untraced functions such as _update_step_xla while saving (showing 1 of 1). These functions will not be directly callable after loading.\n"
     ]
    },
    {
     "name": "stdout",
     "output_type": "stream",
     "text": [
      "INFO:tensorflow:Assets written to: C:\\PROGRAMACION\\PENDULO INVERTIDO\\Pendulo Invertido Diego\\Python-Furuta-Pendulum\\tmp\\checkpoint_swing_up_real\\assets\n"
     ]
    },
    {
     "name": "stderr",
     "output_type": "stream",
     "text": [
      "INFO:tensorflow:Assets written to: C:\\PROGRAMACION\\PENDULO INVERTIDO\\Pendulo Invertido Diego\\Python-Furuta-Pendulum\\tmp\\checkpoint_swing_up_real\\assets\n"
     ]
    },
    {
     "name": "stdout",
     "output_type": "stream",
     "text": [
      "253/253 [==============================] - 1s 3ms/step - loss: 14.2203 - mae: 2.6155 - val_loss: 14.8068 - val_mae: 2.8485\n",
      "Epoch 6/100\n",
      "218/253 [========================>.....] - ETA: 0s - loss: 11.8850 - mae: 2.3519"
     ]
    },
    {
     "name": "stderr",
     "output_type": "stream",
     "text": [
      "WARNING:absl:Found untraced functions such as _update_step_xla while saving (showing 1 of 1). These functions will not be directly callable after loading.\n"
     ]
    },
    {
     "name": "stdout",
     "output_type": "stream",
     "text": [
      "INFO:tensorflow:Assets written to: C:\\PROGRAMACION\\PENDULO INVERTIDO\\Pendulo Invertido Diego\\Python-Furuta-Pendulum\\tmp\\checkpoint_swing_up_real\\assets\n"
     ]
    },
    {
     "name": "stderr",
     "output_type": "stream",
     "text": [
      "INFO:tensorflow:Assets written to: C:\\PROGRAMACION\\PENDULO INVERTIDO\\Pendulo Invertido Diego\\Python-Furuta-Pendulum\\tmp\\checkpoint_swing_up_real\\assets\n"
     ]
    },
    {
     "name": "stdout",
     "output_type": "stream",
     "text": [
      "253/253 [==============================] - 1s 3ms/step - loss: 12.3511 - mae: 2.4436 - val_loss: 11.9828 - val_mae: 2.5335\n",
      "Epoch 7/100\n",
      "219/253 [========================>.....] - ETA: 0s - loss: 10.4995 - mae: 2.2071"
     ]
    },
    {
     "name": "stderr",
     "output_type": "stream",
     "text": [
      "WARNING:absl:Found untraced functions such as _update_step_xla while saving (showing 1 of 1). These functions will not be directly callable after loading.\n"
     ]
    },
    {
     "name": "stdout",
     "output_type": "stream",
     "text": [
      "INFO:tensorflow:Assets written to: C:\\PROGRAMACION\\PENDULO INVERTIDO\\Pendulo Invertido Diego\\Python-Furuta-Pendulum\\tmp\\checkpoint_swing_up_real\\assets\n"
     ]
    },
    {
     "name": "stderr",
     "output_type": "stream",
     "text": [
      "INFO:tensorflow:Assets written to: C:\\PROGRAMACION\\PENDULO INVERTIDO\\Pendulo Invertido Diego\\Python-Furuta-Pendulum\\tmp\\checkpoint_swing_up_real\\assets\n"
     ]
    },
    {
     "name": "stdout",
     "output_type": "stream",
     "text": [
      "253/253 [==============================] - 1s 3ms/step - loss: 10.7386 - mae: 2.2759 - val_loss: 9.6748 - val_mae: 2.2468\n",
      "Epoch 8/100\n",
      "216/253 [========================>.....] - ETA: 0s - loss: 9.6111 - mae: 2.0937 "
     ]
    },
    {
     "name": "stderr",
     "output_type": "stream",
     "text": [
      "WARNING:absl:Found untraced functions such as _update_step_xla while saving (showing 1 of 1). These functions will not be directly callable after loading.\n"
     ]
    },
    {
     "name": "stdout",
     "output_type": "stream",
     "text": [
      "INFO:tensorflow:Assets written to: C:\\PROGRAMACION\\PENDULO INVERTIDO\\Pendulo Invertido Diego\\Python-Furuta-Pendulum\\tmp\\checkpoint_swing_up_real\\assets\n"
     ]
    },
    {
     "name": "stderr",
     "output_type": "stream",
     "text": [
      "INFO:tensorflow:Assets written to: C:\\PROGRAMACION\\PENDULO INVERTIDO\\Pendulo Invertido Diego\\Python-Furuta-Pendulum\\tmp\\checkpoint_swing_up_real\\assets\n"
     ]
    },
    {
     "name": "stdout",
     "output_type": "stream",
     "text": [
      "253/253 [==============================] - 1s 4ms/step - loss: 9.5667 - mae: 2.1282 - val_loss: 8.0291 - val_mae: 2.0026\n",
      "Epoch 9/100\n",
      "196/253 [======================>.......] - ETA: 0s - loss: 8.9711 - mae: 1.9994"
     ]
    },
    {
     "name": "stderr",
     "output_type": "stream",
     "text": [
      "WARNING:absl:Found untraced functions such as _update_step_xla while saving (showing 1 of 1). These functions will not be directly callable after loading.\n"
     ]
    },
    {
     "name": "stdout",
     "output_type": "stream",
     "text": [
      "INFO:tensorflow:Assets written to: C:\\PROGRAMACION\\PENDULO INVERTIDO\\Pendulo Invertido Diego\\Python-Furuta-Pendulum\\tmp\\checkpoint_swing_up_real\\assets\n"
     ]
    },
    {
     "name": "stderr",
     "output_type": "stream",
     "text": [
      "INFO:tensorflow:Assets written to: C:\\PROGRAMACION\\PENDULO INVERTIDO\\Pendulo Invertido Diego\\Python-Furuta-Pendulum\\tmp\\checkpoint_swing_up_real\\assets\n"
     ]
    },
    {
     "name": "stdout",
     "output_type": "stream",
     "text": [
      "253/253 [==============================] - 1s 3ms/step - loss: 8.6516 - mae: 1.9908 - val_loss: 6.8416 - val_mae: 1.8007\n",
      "Epoch 10/100\n",
      "199/253 [======================>.......] - ETA: 0s - loss: 8.2658 - mae: 1.8873"
     ]
    },
    {
     "name": "stderr",
     "output_type": "stream",
     "text": [
      "WARNING:absl:Found untraced functions such as _update_step_xla while saving (showing 1 of 1). These functions will not be directly callable after loading.\n"
     ]
    },
    {
     "name": "stdout",
     "output_type": "stream",
     "text": [
      "INFO:tensorflow:Assets written to: C:\\PROGRAMACION\\PENDULO INVERTIDO\\Pendulo Invertido Diego\\Python-Furuta-Pendulum\\tmp\\checkpoint_swing_up_real\\assets\n"
     ]
    },
    {
     "name": "stderr",
     "output_type": "stream",
     "text": [
      "INFO:tensorflow:Assets written to: C:\\PROGRAMACION\\PENDULO INVERTIDO\\Pendulo Invertido Diego\\Python-Furuta-Pendulum\\tmp\\checkpoint_swing_up_real\\assets\n"
     ]
    },
    {
     "name": "stdout",
     "output_type": "stream",
     "text": [
      "253/253 [==============================] - 1s 3ms/step - loss: 7.8872 - mae: 1.8689 - val_loss: 6.0625 - val_mae: 1.6441\n",
      "Epoch 11/100\n",
      "217/253 [========================>.....] - ETA: 0s - loss: 7.5877 - mae: 1.7621"
     ]
    },
    {
     "name": "stderr",
     "output_type": "stream",
     "text": [
      "WARNING:absl:Found untraced functions such as _update_step_xla while saving (showing 1 of 1). These functions will not be directly callable after loading.\n"
     ]
    },
    {
     "name": "stdout",
     "output_type": "stream",
     "text": [
      "INFO:tensorflow:Assets written to: C:\\PROGRAMACION\\PENDULO INVERTIDO\\Pendulo Invertido Diego\\Python-Furuta-Pendulum\\tmp\\checkpoint_swing_up_real\\assets\n"
     ]
    },
    {
     "name": "stderr",
     "output_type": "stream",
     "text": [
      "INFO:tensorflow:Assets written to: C:\\PROGRAMACION\\PENDULO INVERTIDO\\Pendulo Invertido Diego\\Python-Furuta-Pendulum\\tmp\\checkpoint_swing_up_real\\assets\n"
     ]
    },
    {
     "name": "stdout",
     "output_type": "stream",
     "text": [
      "253/253 [==============================] - 1s 3ms/step - loss: 7.3416 - mae: 1.7701 - val_loss: 5.6054 - val_mae: 1.5404\n",
      "Epoch 12/100\n",
      "216/253 [========================>.....] - ETA: 0s - loss: 7.2209 - mae: 1.6937"
     ]
    },
    {
     "name": "stderr",
     "output_type": "stream",
     "text": [
      "WARNING:absl:Found untraced functions such as _update_step_xla while saving (showing 1 of 1). These functions will not be directly callable after loading.\n"
     ]
    },
    {
     "name": "stdout",
     "output_type": "stream",
     "text": [
      "INFO:tensorflow:Assets written to: C:\\PROGRAMACION\\PENDULO INVERTIDO\\Pendulo Invertido Diego\\Python-Furuta-Pendulum\\tmp\\checkpoint_swing_up_real\\assets\n"
     ]
    },
    {
     "name": "stderr",
     "output_type": "stream",
     "text": [
      "INFO:tensorflow:Assets written to: C:\\PROGRAMACION\\PENDULO INVERTIDO\\Pendulo Invertido Diego\\Python-Furuta-Pendulum\\tmp\\checkpoint_swing_up_real\\assets\n"
     ]
    },
    {
     "name": "stdout",
     "output_type": "stream",
     "text": [
      "253/253 [==============================] - 1s 3ms/step - loss: 6.9347 - mae: 1.6944 - val_loss: 5.2946 - val_mae: 1.4607\n",
      "Epoch 13/100\n",
      "216/253 [========================>.....] - ETA: 0s - loss: 6.9011 - mae: 1.6336"
     ]
    },
    {
     "name": "stderr",
     "output_type": "stream",
     "text": [
      "WARNING:absl:Found untraced functions such as _update_step_xla while saving (showing 1 of 1). These functions will not be directly callable after loading.\n"
     ]
    },
    {
     "name": "stdout",
     "output_type": "stream",
     "text": [
      "INFO:tensorflow:Assets written to: C:\\PROGRAMACION\\PENDULO INVERTIDO\\Pendulo Invertido Diego\\Python-Furuta-Pendulum\\tmp\\checkpoint_swing_up_real\\assets\n"
     ]
    },
    {
     "name": "stderr",
     "output_type": "stream",
     "text": [
      "INFO:tensorflow:Assets written to: C:\\PROGRAMACION\\PENDULO INVERTIDO\\Pendulo Invertido Diego\\Python-Furuta-Pendulum\\tmp\\checkpoint_swing_up_real\\assets\n"
     ]
    },
    {
     "name": "stdout",
     "output_type": "stream",
     "text": [
      "253/253 [==============================] - 1s 3ms/step - loss: 6.6123 - mae: 1.6327 - val_loss: 5.0566 - val_mae: 1.3938\n",
      "Epoch 14/100\n",
      "218/253 [========================>.....] - ETA: 0s - loss: 6.5861 - mae: 1.5820"
     ]
    },
    {
     "name": "stderr",
     "output_type": "stream",
     "text": [
      "WARNING:absl:Found untraced functions such as _update_step_xla while saving (showing 1 of 1). These functions will not be directly callable after loading.\n"
     ]
    },
    {
     "name": "stdout",
     "output_type": "stream",
     "text": [
      "INFO:tensorflow:Assets written to: C:\\PROGRAMACION\\PENDULO INVERTIDO\\Pendulo Invertido Diego\\Python-Furuta-Pendulum\\tmp\\checkpoint_swing_up_real\\assets\n"
     ]
    },
    {
     "name": "stderr",
     "output_type": "stream",
     "text": [
      "INFO:tensorflow:Assets written to: C:\\PROGRAMACION\\PENDULO INVERTIDO\\Pendulo Invertido Diego\\Python-Furuta-Pendulum\\tmp\\checkpoint_swing_up_real\\assets\n"
     ]
    },
    {
     "name": "stdout",
     "output_type": "stream",
     "text": [
      "253/253 [==============================] - 1s 3ms/step - loss: 6.3437 - mae: 1.5838 - val_loss: 4.8668 - val_mae: 1.3219\n",
      "Epoch 15/100\n",
      "218/253 [========================>.....] - ETA: 0s - loss: 6.3165 - mae: 1.5343"
     ]
    },
    {
     "name": "stderr",
     "output_type": "stream",
     "text": [
      "WARNING:absl:Found untraced functions such as _update_step_xla while saving (showing 1 of 1). These functions will not be directly callable after loading.\n"
     ]
    },
    {
     "name": "stdout",
     "output_type": "stream",
     "text": [
      "INFO:tensorflow:Assets written to: C:\\PROGRAMACION\\PENDULO INVERTIDO\\Pendulo Invertido Diego\\Python-Furuta-Pendulum\\tmp\\checkpoint_swing_up_real\\assets\n"
     ]
    },
    {
     "name": "stderr",
     "output_type": "stream",
     "text": [
      "INFO:tensorflow:Assets written to: C:\\PROGRAMACION\\PENDULO INVERTIDO\\Pendulo Invertido Diego\\Python-Furuta-Pendulum\\tmp\\checkpoint_swing_up_real\\assets\n"
     ]
    },
    {
     "name": "stdout",
     "output_type": "stream",
     "text": [
      "253/253 [==============================] - 1s 3ms/step - loss: 6.0691 - mae: 1.5333 - val_loss: 4.6543 - val_mae: 1.2910\n",
      "Epoch 16/100\n",
      "196/253 [======================>.......] - ETA: 0s - loss: 6.1216 - mae: 1.5225"
     ]
    },
    {
     "name": "stderr",
     "output_type": "stream",
     "text": [
      "WARNING:absl:Found untraced functions such as _update_step_xla while saving (showing 1 of 1). These functions will not be directly callable after loading.\n"
     ]
    },
    {
     "name": "stdout",
     "output_type": "stream",
     "text": [
      "INFO:tensorflow:Assets written to: C:\\PROGRAMACION\\PENDULO INVERTIDO\\Pendulo Invertido Diego\\Python-Furuta-Pendulum\\tmp\\checkpoint_swing_up_real\\assets\n"
     ]
    },
    {
     "name": "stderr",
     "output_type": "stream",
     "text": [
      "INFO:tensorflow:Assets written to: C:\\PROGRAMACION\\PENDULO INVERTIDO\\Pendulo Invertido Diego\\Python-Furuta-Pendulum\\tmp\\checkpoint_swing_up_real\\assets\n"
     ]
    },
    {
     "name": "stdout",
     "output_type": "stream",
     "text": [
      "253/253 [==============================] - 1s 3ms/step - loss: 5.7878 - mae: 1.5002 - val_loss: 4.4698 - val_mae: 1.2748\n",
      "Epoch 17/100\n",
      "199/253 [======================>.......] - ETA: 0s - loss: 5.8356 - mae: 1.4882"
     ]
    },
    {
     "name": "stderr",
     "output_type": "stream",
     "text": [
      "WARNING:absl:Found untraced functions such as _update_step_xla while saving (showing 1 of 1). These functions will not be directly callable after loading.\n"
     ]
    },
    {
     "name": "stdout",
     "output_type": "stream",
     "text": [
      "INFO:tensorflow:Assets written to: C:\\PROGRAMACION\\PENDULO INVERTIDO\\Pendulo Invertido Diego\\Python-Furuta-Pendulum\\tmp\\checkpoint_swing_up_real\\assets\n"
     ]
    },
    {
     "name": "stderr",
     "output_type": "stream",
     "text": [
      "INFO:tensorflow:Assets written to: C:\\PROGRAMACION\\PENDULO INVERTIDO\\Pendulo Invertido Diego\\Python-Furuta-Pendulum\\tmp\\checkpoint_swing_up_real\\assets\n"
     ]
    },
    {
     "name": "stdout",
     "output_type": "stream",
     "text": [
      "253/253 [==============================] - 1s 4ms/step - loss: 5.5031 - mae: 1.4636 - val_loss: 4.3240 - val_mae: 1.2632\n",
      "Epoch 18/100\n",
      "220/253 [=========================>....] - ETA: 0s - loss: 5.4518 - mae: 1.4356"
     ]
    },
    {
     "name": "stderr",
     "output_type": "stream",
     "text": [
      "WARNING:absl:Found untraced functions such as _update_step_xla while saving (showing 1 of 1). These functions will not be directly callable after loading.\n"
     ]
    },
    {
     "name": "stdout",
     "output_type": "stream",
     "text": [
      "INFO:tensorflow:Assets written to: C:\\PROGRAMACION\\PENDULO INVERTIDO\\Pendulo Invertido Diego\\Python-Furuta-Pendulum\\tmp\\checkpoint_swing_up_real\\assets\n"
     ]
    },
    {
     "name": "stderr",
     "output_type": "stream",
     "text": [
      "INFO:tensorflow:Assets written to: C:\\PROGRAMACION\\PENDULO INVERTIDO\\Pendulo Invertido Diego\\Python-Furuta-Pendulum\\tmp\\checkpoint_swing_up_real\\assets\n"
     ]
    },
    {
     "name": "stdout",
     "output_type": "stream",
     "text": [
      "253/253 [==============================] - 1s 3ms/step - loss: 5.2564 - mae: 1.4318 - val_loss: 4.1523 - val_mae: 1.2329\n",
      "Epoch 19/100\n",
      "221/253 [=========================>....] - ETA: 0s - loss: 5.1975 - mae: 1.4053"
     ]
    },
    {
     "name": "stderr",
     "output_type": "stream",
     "text": [
      "WARNING:absl:Found untraced functions such as _update_step_xla while saving (showing 1 of 1). These functions will not be directly callable after loading.\n"
     ]
    },
    {
     "name": "stdout",
     "output_type": "stream",
     "text": [
      "INFO:tensorflow:Assets written to: C:\\PROGRAMACION\\PENDULO INVERTIDO\\Pendulo Invertido Diego\\Python-Furuta-Pendulum\\tmp\\checkpoint_swing_up_real\\assets\n"
     ]
    },
    {
     "name": "stderr",
     "output_type": "stream",
     "text": [
      "INFO:tensorflow:Assets written to: C:\\PROGRAMACION\\PENDULO INVERTIDO\\Pendulo Invertido Diego\\Python-Furuta-Pendulum\\tmp\\checkpoint_swing_up_real\\assets\n"
     ]
    },
    {
     "name": "stdout",
     "output_type": "stream",
     "text": [
      "253/253 [==============================] - 1s 3ms/step - loss: 5.0248 - mae: 1.4015 - val_loss: 3.9781 - val_mae: 1.2019\n",
      "Epoch 20/100\n",
      "217/253 [========================>.....] - ETA: 0s - loss: 5.0483 - mae: 1.3917"
     ]
    },
    {
     "name": "stderr",
     "output_type": "stream",
     "text": [
      "WARNING:absl:Found untraced functions such as _update_step_xla while saving (showing 1 of 1). These functions will not be directly callable after loading.\n"
     ]
    },
    {
     "name": "stdout",
     "output_type": "stream",
     "text": [
      "INFO:tensorflow:Assets written to: C:\\PROGRAMACION\\PENDULO INVERTIDO\\Pendulo Invertido Diego\\Python-Furuta-Pendulum\\tmp\\checkpoint_swing_up_real\\assets\n"
     ]
    },
    {
     "name": "stderr",
     "output_type": "stream",
     "text": [
      "INFO:tensorflow:Assets written to: C:\\PROGRAMACION\\PENDULO INVERTIDO\\Pendulo Invertido Diego\\Python-Furuta-Pendulum\\tmp\\checkpoint_swing_up_real\\assets\n"
     ]
    },
    {
     "name": "stdout",
     "output_type": "stream",
     "text": [
      "253/253 [==============================] - 1s 3ms/step - loss: 4.8047 - mae: 1.3741 - val_loss: 3.8239 - val_mae: 1.1793\n",
      "Epoch 21/100\n",
      "221/253 [=========================>....] - ETA: 0s - loss: 4.7665 - mae: 1.3634"
     ]
    },
    {
     "name": "stderr",
     "output_type": "stream",
     "text": [
      "WARNING:absl:Found untraced functions such as _update_step_xla while saving (showing 1 of 1). These functions will not be directly callable after loading.\n"
     ]
    },
    {
     "name": "stdout",
     "output_type": "stream",
     "text": [
      "INFO:tensorflow:Assets written to: C:\\PROGRAMACION\\PENDULO INVERTIDO\\Pendulo Invertido Diego\\Python-Furuta-Pendulum\\tmp\\checkpoint_swing_up_real\\assets\n"
     ]
    },
    {
     "name": "stderr",
     "output_type": "stream",
     "text": [
      "INFO:tensorflow:Assets written to: C:\\PROGRAMACION\\PENDULO INVERTIDO\\Pendulo Invertido Diego\\Python-Furuta-Pendulum\\tmp\\checkpoint_swing_up_real\\assets\n"
     ]
    },
    {
     "name": "stdout",
     "output_type": "stream",
     "text": [
      "253/253 [==============================] - 1s 3ms/step - loss: 4.5973 - mae: 1.3523 - val_loss: 3.6723 - val_mae: 1.1680\n",
      "Epoch 22/100\n",
      "203/253 [=======================>......] - ETA: 0s - loss: 4.6027 - mae: 1.3533"
     ]
    },
    {
     "name": "stderr",
     "output_type": "stream",
     "text": [
      "WARNING:absl:Found untraced functions such as _update_step_xla while saving (showing 1 of 1). These functions will not be directly callable after loading.\n"
     ]
    },
    {
     "name": "stdout",
     "output_type": "stream",
     "text": [
      "INFO:tensorflow:Assets written to: C:\\PROGRAMACION\\PENDULO INVERTIDO\\Pendulo Invertido Diego\\Python-Furuta-Pendulum\\tmp\\checkpoint_swing_up_real\\assets\n"
     ]
    },
    {
     "name": "stderr",
     "output_type": "stream",
     "text": [
      "INFO:tensorflow:Assets written to: C:\\PROGRAMACION\\PENDULO INVERTIDO\\Pendulo Invertido Diego\\Python-Furuta-Pendulum\\tmp\\checkpoint_swing_up_real\\assets\n"
     ]
    },
    {
     "name": "stdout",
     "output_type": "stream",
     "text": [
      "253/253 [==============================] - 1s 3ms/step - loss: 4.3711 - mae: 1.3244 - val_loss: 3.5124 - val_mae: 1.1522\n",
      "Epoch 23/100\n",
      "203/253 [=======================>......] - ETA: 0s - loss: 4.3804 - mae: 1.3256"
     ]
    },
    {
     "name": "stderr",
     "output_type": "stream",
     "text": [
      "WARNING:absl:Found untraced functions such as _update_step_xla while saving (showing 1 of 1). These functions will not be directly callable after loading.\n"
     ]
    },
    {
     "name": "stdout",
     "output_type": "stream",
     "text": [
      "INFO:tensorflow:Assets written to: C:\\PROGRAMACION\\PENDULO INVERTIDO\\Pendulo Invertido Diego\\Python-Furuta-Pendulum\\tmp\\checkpoint_swing_up_real\\assets\n"
     ]
    },
    {
     "name": "stderr",
     "output_type": "stream",
     "text": [
      "INFO:tensorflow:Assets written to: C:\\PROGRAMACION\\PENDULO INVERTIDO\\Pendulo Invertido Diego\\Python-Furuta-Pendulum\\tmp\\checkpoint_swing_up_real\\assets\n"
     ]
    },
    {
     "name": "stdout",
     "output_type": "stream",
     "text": [
      "253/253 [==============================] - 1s 3ms/step - loss: 4.1598 - mae: 1.2959 - val_loss: 3.3686 - val_mae: 1.1388\n",
      "Epoch 24/100\n",
      "197/253 [======================>.......] - ETA: 0s - loss: 4.1864 - mae: 1.3008"
     ]
    },
    {
     "name": "stderr",
     "output_type": "stream",
     "text": [
      "WARNING:absl:Found untraced functions such as _update_step_xla while saving (showing 1 of 1). These functions will not be directly callable after loading.\n"
     ]
    },
    {
     "name": "stdout",
     "output_type": "stream",
     "text": [
      "INFO:tensorflow:Assets written to: C:\\PROGRAMACION\\PENDULO INVERTIDO\\Pendulo Invertido Diego\\Python-Furuta-Pendulum\\tmp\\checkpoint_swing_up_real\\assets\n"
     ]
    },
    {
     "name": "stderr",
     "output_type": "stream",
     "text": [
      "INFO:tensorflow:Assets written to: C:\\PROGRAMACION\\PENDULO INVERTIDO\\Pendulo Invertido Diego\\Python-Furuta-Pendulum\\tmp\\checkpoint_swing_up_real\\assets\n"
     ]
    },
    {
     "name": "stdout",
     "output_type": "stream",
     "text": [
      "253/253 [==============================] - 1s 3ms/step - loss: 3.9695 - mae: 1.2711 - val_loss: 3.2466 - val_mae: 1.1287\n",
      "Epoch 25/100\n",
      "216/253 [========================>.....] - ETA: 0s - loss: 4.0100 - mae: 1.2746"
     ]
    },
    {
     "name": "stderr",
     "output_type": "stream",
     "text": [
      "WARNING:absl:Found untraced functions such as _update_step_xla while saving (showing 1 of 1). These functions will not be directly callable after loading.\n"
     ]
    },
    {
     "name": "stdout",
     "output_type": "stream",
     "text": [
      "INFO:tensorflow:Assets written to: C:\\PROGRAMACION\\PENDULO INVERTIDO\\Pendulo Invertido Diego\\Python-Furuta-Pendulum\\tmp\\checkpoint_swing_up_real\\assets\n"
     ]
    },
    {
     "name": "stderr",
     "output_type": "stream",
     "text": [
      "INFO:tensorflow:Assets written to: C:\\PROGRAMACION\\PENDULO INVERTIDO\\Pendulo Invertido Diego\\Python-Furuta-Pendulum\\tmp\\checkpoint_swing_up_real\\assets\n"
     ]
    },
    {
     "name": "stdout",
     "output_type": "stream",
     "text": [
      "253/253 [==============================] - 1s 4ms/step - loss: 3.7978 - mae: 1.2487 - val_loss: 3.1356 - val_mae: 1.1166\n",
      "Epoch 26/100\n",
      "233/253 [==========================>...] - ETA: 0s - loss: 3.7052 - mae: 1.2288"
     ]
    },
    {
     "name": "stderr",
     "output_type": "stream",
     "text": [
      "WARNING:absl:Found untraced functions such as _update_step_xla while saving (showing 1 of 1). These functions will not be directly callable after loading.\n"
     ]
    },
    {
     "name": "stdout",
     "output_type": "stream",
     "text": [
      "INFO:tensorflow:Assets written to: C:\\PROGRAMACION\\PENDULO INVERTIDO\\Pendulo Invertido Diego\\Python-Furuta-Pendulum\\tmp\\checkpoint_swing_up_real\\assets\n"
     ]
    },
    {
     "name": "stderr",
     "output_type": "stream",
     "text": [
      "INFO:tensorflow:Assets written to: C:\\PROGRAMACION\\PENDULO INVERTIDO\\Pendulo Invertido Diego\\Python-Furuta-Pendulum\\tmp\\checkpoint_swing_up_real\\assets\n"
     ]
    },
    {
     "name": "stdout",
     "output_type": "stream",
     "text": [
      "253/253 [==============================] - 1s 3ms/step - loss: 3.6264 - mae: 1.2225 - val_loss: 3.0282 - val_mae: 1.1003\n",
      "Epoch 27/100\n",
      "218/253 [========================>.....] - ETA: 0s - loss: 3.6400 - mae: 1.2236"
     ]
    },
    {
     "name": "stderr",
     "output_type": "stream",
     "text": [
      "WARNING:absl:Found untraced functions such as _update_step_xla while saving (showing 1 of 1). These functions will not be directly callable after loading.\n"
     ]
    },
    {
     "name": "stdout",
     "output_type": "stream",
     "text": [
      "INFO:tensorflow:Assets written to: C:\\PROGRAMACION\\PENDULO INVERTIDO\\Pendulo Invertido Diego\\Python-Furuta-Pendulum\\tmp\\checkpoint_swing_up_real\\assets\n"
     ]
    },
    {
     "name": "stderr",
     "output_type": "stream",
     "text": [
      "INFO:tensorflow:Assets written to: C:\\PROGRAMACION\\PENDULO INVERTIDO\\Pendulo Invertido Diego\\Python-Furuta-Pendulum\\tmp\\checkpoint_swing_up_real\\assets\n"
     ]
    },
    {
     "name": "stdout",
     "output_type": "stream",
     "text": [
      "253/253 [==============================] - 1s 3ms/step - loss: 3.4650 - mae: 1.1979 - val_loss: 2.9407 - val_mae: 1.0860\n",
      "Epoch 28/100\n",
      "222/253 [=========================>....] - ETA: 0s - loss: 3.4395 - mae: 1.1932"
     ]
    },
    {
     "name": "stderr",
     "output_type": "stream",
     "text": [
      "WARNING:absl:Found untraced functions such as _update_step_xla while saving (showing 1 of 1). These functions will not be directly callable after loading.\n"
     ]
    },
    {
     "name": "stdout",
     "output_type": "stream",
     "text": [
      "INFO:tensorflow:Assets written to: C:\\PROGRAMACION\\PENDULO INVERTIDO\\Pendulo Invertido Diego\\Python-Furuta-Pendulum\\tmp\\checkpoint_swing_up_real\\assets\n"
     ]
    },
    {
     "name": "stderr",
     "output_type": "stream",
     "text": [
      "INFO:tensorflow:Assets written to: C:\\PROGRAMACION\\PENDULO INVERTIDO\\Pendulo Invertido Diego\\Python-Furuta-Pendulum\\tmp\\checkpoint_swing_up_real\\assets\n"
     ]
    },
    {
     "name": "stdout",
     "output_type": "stream",
     "text": [
      "253/253 [==============================] - 1s 3ms/step - loss: 3.3215 - mae: 1.1762 - val_loss: 2.8758 - val_mae: 1.0748\n",
      "Epoch 29/100\n",
      "238/253 [===========================>..] - ETA: 0s - loss: 3.2320 - mae: 1.1594"
     ]
    },
    {
     "name": "stderr",
     "output_type": "stream",
     "text": [
      "WARNING:absl:Found untraced functions such as _update_step_xla while saving (showing 1 of 1). These functions will not be directly callable after loading.\n"
     ]
    },
    {
     "name": "stdout",
     "output_type": "stream",
     "text": [
      "INFO:tensorflow:Assets written to: C:\\PROGRAMACION\\PENDULO INVERTIDO\\Pendulo Invertido Diego\\Python-Furuta-Pendulum\\tmp\\checkpoint_swing_up_real\\assets\n"
     ]
    },
    {
     "name": "stderr",
     "output_type": "stream",
     "text": [
      "INFO:tensorflow:Assets written to: C:\\PROGRAMACION\\PENDULO INVERTIDO\\Pendulo Invertido Diego\\Python-Furuta-Pendulum\\tmp\\checkpoint_swing_up_real\\assets\n"
     ]
    },
    {
     "name": "stdout",
     "output_type": "stream",
     "text": [
      "253/253 [==============================] - 1s 3ms/step - loss: 3.1971 - mae: 1.1554 - val_loss: 2.8206 - val_mae: 1.0634\n",
      "Epoch 30/100\n",
      "221/253 [=========================>....] - ETA: 0s - loss: 3.2086 - mae: 1.1574"
     ]
    },
    {
     "name": "stderr",
     "output_type": "stream",
     "text": [
      "WARNING:absl:Found untraced functions such as _update_step_xla while saving (showing 1 of 1). These functions will not be directly callable after loading.\n"
     ]
    },
    {
     "name": "stdout",
     "output_type": "stream",
     "text": [
      "INFO:tensorflow:Assets written to: C:\\PROGRAMACION\\PENDULO INVERTIDO\\Pendulo Invertido Diego\\Python-Furuta-Pendulum\\tmp\\checkpoint_swing_up_real\\assets\n"
     ]
    },
    {
     "name": "stderr",
     "output_type": "stream",
     "text": [
      "INFO:tensorflow:Assets written to: C:\\PROGRAMACION\\PENDULO INVERTIDO\\Pendulo Invertido Diego\\Python-Furuta-Pendulum\\tmp\\checkpoint_swing_up_real\\assets\n"
     ]
    },
    {
     "name": "stdout",
     "output_type": "stream",
     "text": [
      "253/253 [==============================] - 1s 3ms/step - loss: 3.0922 - mae: 1.1372 - val_loss: 2.7832 - val_mae: 1.0556\n",
      "Epoch 31/100\n",
      "218/253 [========================>.....] - ETA: 0s - loss: 3.1384 - mae: 1.1465"
     ]
    },
    {
     "name": "stderr",
     "output_type": "stream",
     "text": [
      "WARNING:absl:Found untraced functions such as _update_step_xla while saving (showing 1 of 1). These functions will not be directly callable after loading.\n"
     ]
    },
    {
     "name": "stdout",
     "output_type": "stream",
     "text": [
      "INFO:tensorflow:Assets written to: C:\\PROGRAMACION\\PENDULO INVERTIDO\\Pendulo Invertido Diego\\Python-Furuta-Pendulum\\tmp\\checkpoint_swing_up_real\\assets\n"
     ]
    },
    {
     "name": "stderr",
     "output_type": "stream",
     "text": [
      "INFO:tensorflow:Assets written to: C:\\PROGRAMACION\\PENDULO INVERTIDO\\Pendulo Invertido Diego\\Python-Furuta-Pendulum\\tmp\\checkpoint_swing_up_real\\assets\n"
     ]
    },
    {
     "name": "stdout",
     "output_type": "stream",
     "text": [
      "253/253 [==============================] - 1s 3ms/step - loss: 2.9946 - mae: 1.1198 - val_loss: 2.7498 - val_mae: 1.0476\n",
      "Epoch 32/100\n",
      "216/253 [========================>.....] - ETA: 0s - loss: 3.0537 - mae: 1.1297"
     ]
    },
    {
     "name": "stderr",
     "output_type": "stream",
     "text": [
      "WARNING:absl:Found untraced functions such as _update_step_xla while saving (showing 1 of 1). These functions will not be directly callable after loading.\n"
     ]
    },
    {
     "name": "stdout",
     "output_type": "stream",
     "text": [
      "INFO:tensorflow:Assets written to: C:\\PROGRAMACION\\PENDULO INVERTIDO\\Pendulo Invertido Diego\\Python-Furuta-Pendulum\\tmp\\checkpoint_swing_up_real\\assets\n"
     ]
    },
    {
     "name": "stderr",
     "output_type": "stream",
     "text": [
      "INFO:tensorflow:Assets written to: C:\\PROGRAMACION\\PENDULO INVERTIDO\\Pendulo Invertido Diego\\Python-Furuta-Pendulum\\tmp\\checkpoint_swing_up_real\\assets\n"
     ]
    },
    {
     "name": "stdout",
     "output_type": "stream",
     "text": [
      "253/253 [==============================] - 1s 3ms/step - loss: 2.9001 - mae: 1.1014 - val_loss: 2.7124 - val_mae: 1.0393\n",
      "Epoch 33/100\n",
      "213/253 [========================>.....] - ETA: 0s - loss: 2.9573 - mae: 1.1124"
     ]
    },
    {
     "name": "stderr",
     "output_type": "stream",
     "text": [
      "WARNING:absl:Found untraced functions such as _update_step_xla while saving (showing 1 of 1). These functions will not be directly callable after loading.\n"
     ]
    },
    {
     "name": "stdout",
     "output_type": "stream",
     "text": [
      "INFO:tensorflow:Assets written to: C:\\PROGRAMACION\\PENDULO INVERTIDO\\Pendulo Invertido Diego\\Python-Furuta-Pendulum\\tmp\\checkpoint_swing_up_real\\assets\n"
     ]
    },
    {
     "name": "stderr",
     "output_type": "stream",
     "text": [
      "INFO:tensorflow:Assets written to: C:\\PROGRAMACION\\PENDULO INVERTIDO\\Pendulo Invertido Diego\\Python-Furuta-Pendulum\\tmp\\checkpoint_swing_up_real\\assets\n"
     ]
    },
    {
     "name": "stdout",
     "output_type": "stream",
     "text": [
      "253/253 [==============================] - 1s 4ms/step - loss: 2.8147 - mae: 1.0840 - val_loss: 2.6944 - val_mae: 1.0371\n",
      "Epoch 34/100\n",
      "202/253 [======================>.......] - ETA: 0s - loss: 2.8979 - mae: 1.1031"
     ]
    },
    {
     "name": "stderr",
     "output_type": "stream",
     "text": [
      "WARNING:absl:Found untraced functions such as _update_step_xla while saving (showing 1 of 1). These functions will not be directly callable after loading.\n"
     ]
    },
    {
     "name": "stdout",
     "output_type": "stream",
     "text": [
      "INFO:tensorflow:Assets written to: C:\\PROGRAMACION\\PENDULO INVERTIDO\\Pendulo Invertido Diego\\Python-Furuta-Pendulum\\tmp\\checkpoint_swing_up_real\\assets\n"
     ]
    },
    {
     "name": "stderr",
     "output_type": "stream",
     "text": [
      "INFO:tensorflow:Assets written to: C:\\PROGRAMACION\\PENDULO INVERTIDO\\Pendulo Invertido Diego\\Python-Furuta-Pendulum\\tmp\\checkpoint_swing_up_real\\assets\n"
     ]
    },
    {
     "name": "stdout",
     "output_type": "stream",
     "text": [
      "253/253 [==============================] - 1s 3ms/step - loss: 2.7491 - mae: 1.0703 - val_loss: 2.6783 - val_mae: 1.0328\n",
      "Epoch 35/100\n",
      "218/253 [========================>.....] - ETA: 0s - loss: 2.8112 - mae: 1.0824"
     ]
    },
    {
     "name": "stderr",
     "output_type": "stream",
     "text": [
      "WARNING:absl:Found untraced functions such as _update_step_xla while saving (showing 1 of 1). These functions will not be directly callable after loading.\n"
     ]
    },
    {
     "name": "stdout",
     "output_type": "stream",
     "text": [
      "INFO:tensorflow:Assets written to: C:\\PROGRAMACION\\PENDULO INVERTIDO\\Pendulo Invertido Diego\\Python-Furuta-Pendulum\\tmp\\checkpoint_swing_up_real\\assets\n"
     ]
    },
    {
     "name": "stderr",
     "output_type": "stream",
     "text": [
      "INFO:tensorflow:Assets written to: C:\\PROGRAMACION\\PENDULO INVERTIDO\\Pendulo Invertido Diego\\Python-Furuta-Pendulum\\tmp\\checkpoint_swing_up_real\\assets\n"
     ]
    },
    {
     "name": "stdout",
     "output_type": "stream",
     "text": [
      "253/253 [==============================] - 1s 3ms/step - loss: 2.6956 - mae: 1.0590 - val_loss: 2.6706 - val_mae: 1.0308\n",
      "Epoch 36/100\n",
      "216/253 [========================>.....] - ETA: 0s - loss: 2.7783 - mae: 1.0730"
     ]
    },
    {
     "name": "stderr",
     "output_type": "stream",
     "text": [
      "WARNING:absl:Found untraced functions such as _update_step_xla while saving (showing 1 of 1). These functions will not be directly callable after loading.\n"
     ]
    },
    {
     "name": "stdout",
     "output_type": "stream",
     "text": [
      "INFO:tensorflow:Assets written to: C:\\PROGRAMACION\\PENDULO INVERTIDO\\Pendulo Invertido Diego\\Python-Furuta-Pendulum\\tmp\\checkpoint_swing_up_real\\assets\n"
     ]
    },
    {
     "name": "stderr",
     "output_type": "stream",
     "text": [
      "INFO:tensorflow:Assets written to: C:\\PROGRAMACION\\PENDULO INVERTIDO\\Pendulo Invertido Diego\\Python-Furuta-Pendulum\\tmp\\checkpoint_swing_up_real\\assets\n"
     ]
    },
    {
     "name": "stdout",
     "output_type": "stream",
     "text": [
      "253/253 [==============================] - 1s 3ms/step - loss: 2.6496 - mae: 1.0481 - val_loss: 2.6661 - val_mae: 1.0275\n",
      "Epoch 37/100\n",
      "253/253 [==============================] - 0s 905us/step - loss: 2.6083 - mae: 1.0377 - val_loss: 2.6668 - val_mae: 1.0249\n",
      "Epoch 38/100\n",
      "253/253 [==============================] - 0s 914us/step - loss: 2.5690 - mae: 1.0267 - val_loss: 2.6664 - val_mae: 1.0213\n",
      "Epoch 39/100\n",
      "253/253 [==============================] - 0s 937us/step - loss: 2.5377 - mae: 1.0174 - val_loss: 2.6662 - val_mae: 1.0187\n",
      "Epoch 40/100\n",
      "218/253 [========================>.....] - ETA: 0s - loss: 2.6097 - mae: 1.0278"
     ]
    },
    {
     "name": "stderr",
     "output_type": "stream",
     "text": [
      "WARNING:absl:Found untraced functions such as _update_step_xla while saving (showing 1 of 1). These functions will not be directly callable after loading.\n"
     ]
    },
    {
     "name": "stdout",
     "output_type": "stream",
     "text": [
      "INFO:tensorflow:Assets written to: C:\\PROGRAMACION\\PENDULO INVERTIDO\\Pendulo Invertido Diego\\Python-Furuta-Pendulum\\tmp\\checkpoint_swing_up_real\\assets\n"
     ]
    },
    {
     "name": "stderr",
     "output_type": "stream",
     "text": [
      "INFO:tensorflow:Assets written to: C:\\PROGRAMACION\\PENDULO INVERTIDO\\Pendulo Invertido Diego\\Python-Furuta-Pendulum\\tmp\\checkpoint_swing_up_real\\assets\n"
     ]
    },
    {
     "name": "stdout",
     "output_type": "stream",
     "text": [
      "253/253 [==============================] - 1s 3ms/step - loss: 2.5101 - mae: 1.0085 - val_loss: 2.6652 - val_mae: 1.0156\n",
      "Epoch 41/100\n",
      "192/253 [=====================>........] - ETA: 0s - loss: 2.6559 - mae: 1.0350"
     ]
    },
    {
     "name": "stderr",
     "output_type": "stream",
     "text": [
      "WARNING:absl:Found untraced functions such as _update_step_xla while saving (showing 1 of 1). These functions will not be directly callable after loading.\n"
     ]
    },
    {
     "name": "stdout",
     "output_type": "stream",
     "text": [
      "INFO:tensorflow:Assets written to: C:\\PROGRAMACION\\PENDULO INVERTIDO\\Pendulo Invertido Diego\\Python-Furuta-Pendulum\\tmp\\checkpoint_swing_up_real\\assets\n"
     ]
    },
    {
     "name": "stderr",
     "output_type": "stream",
     "text": [
      "INFO:tensorflow:Assets written to: C:\\PROGRAMACION\\PENDULO INVERTIDO\\Pendulo Invertido Diego\\Python-Furuta-Pendulum\\tmp\\checkpoint_swing_up_real\\assets\n"
     ]
    },
    {
     "name": "stdout",
     "output_type": "stream",
     "text": [
      "253/253 [==============================] - 1s 3ms/step - loss: 2.4847 - mae: 1.0000 - val_loss: 2.6513 - val_mae: 1.0071\n",
      "Epoch 42/100\n",
      "190/253 [=====================>........] - ETA: 0s - loss: 2.6338 - mae: 1.0255"
     ]
    },
    {
     "name": "stderr",
     "output_type": "stream",
     "text": [
      "WARNING:absl:Found untraced functions such as _update_step_xla while saving (showing 1 of 1). These functions will not be directly callable after loading.\n"
     ]
    },
    {
     "name": "stdout",
     "output_type": "stream",
     "text": [
      "INFO:tensorflow:Assets written to: C:\\PROGRAMACION\\PENDULO INVERTIDO\\Pendulo Invertido Diego\\Python-Furuta-Pendulum\\tmp\\checkpoint_swing_up_real\\assets\n"
     ]
    },
    {
     "name": "stderr",
     "output_type": "stream",
     "text": [
      "INFO:tensorflow:Assets written to: C:\\PROGRAMACION\\PENDULO INVERTIDO\\Pendulo Invertido Diego\\Python-Furuta-Pendulum\\tmp\\checkpoint_swing_up_real\\assets\n"
     ]
    },
    {
     "name": "stdout",
     "output_type": "stream",
     "text": [
      "253/253 [==============================] - 1s 3ms/step - loss: 2.4618 - mae: 0.9918 - val_loss: 2.6413 - val_mae: 1.0001\n",
      "Epoch 43/100\n",
      "218/253 [========================>.....] - ETA: 0s - loss: 2.5389 - mae: 1.0035"
     ]
    },
    {
     "name": "stderr",
     "output_type": "stream",
     "text": [
      "WARNING:absl:Found untraced functions such as _update_step_xla while saving (showing 1 of 1). These functions will not be directly callable after loading.\n"
     ]
    },
    {
     "name": "stdout",
     "output_type": "stream",
     "text": [
      "INFO:tensorflow:Assets written to: C:\\PROGRAMACION\\PENDULO INVERTIDO\\Pendulo Invertido Diego\\Python-Furuta-Pendulum\\tmp\\checkpoint_swing_up_real\\assets\n"
     ]
    },
    {
     "name": "stderr",
     "output_type": "stream",
     "text": [
      "INFO:tensorflow:Assets written to: C:\\PROGRAMACION\\PENDULO INVERTIDO\\Pendulo Invertido Diego\\Python-Furuta-Pendulum\\tmp\\checkpoint_swing_up_real\\assets\n"
     ]
    },
    {
     "name": "stdout",
     "output_type": "stream",
     "text": [
      "253/253 [==============================] - 1s 3ms/step - loss: 2.4412 - mae: 0.9846 - val_loss: 2.6409 - val_mae: 0.9969\n",
      "Epoch 44/100\n",
      "215/253 [========================>.....] - ETA: 0s - loss: 2.5351 - mae: 0.9992"
     ]
    },
    {
     "name": "stderr",
     "output_type": "stream",
     "text": [
      "WARNING:absl:Found untraced functions such as _update_step_xla while saving (showing 1 of 1). These functions will not be directly callable after loading.\n"
     ]
    },
    {
     "name": "stdout",
     "output_type": "stream",
     "text": [
      "INFO:tensorflow:Assets written to: C:\\PROGRAMACION\\PENDULO INVERTIDO\\Pendulo Invertido Diego\\Python-Furuta-Pendulum\\tmp\\checkpoint_swing_up_real\\assets\n"
     ]
    },
    {
     "name": "stderr",
     "output_type": "stream",
     "text": [
      "INFO:tensorflow:Assets written to: C:\\PROGRAMACION\\PENDULO INVERTIDO\\Pendulo Invertido Diego\\Python-Furuta-Pendulum\\tmp\\checkpoint_swing_up_real\\assets\n"
     ]
    },
    {
     "name": "stdout",
     "output_type": "stream",
     "text": [
      "253/253 [==============================] - 1s 3ms/step - loss: 2.4233 - mae: 0.9783 - val_loss: 2.6396 - val_mae: 0.9940\n",
      "Epoch 45/100\n",
      "253/253 [==============================] - 0s 915us/step - loss: 2.4061 - mae: 0.9724 - val_loss: 2.6396 - val_mae: 0.9925\n",
      "Epoch 46/100\n",
      "253/253 [==============================] - 0s 923us/step - loss: 2.3905 - mae: 0.9671 - val_loss: 2.6420 - val_mae: 0.9919\n",
      "Epoch 47/100\n",
      "253/253 [==============================] - 0s 988us/step - loss: 2.3760 - mae: 0.9624 - val_loss: 2.6437 - val_mae: 0.9916\n",
      "Epoch 48/100\n",
      "253/253 [==============================] - 0s 928us/step - loss: 2.3629 - mae: 0.9575 - val_loss: 2.6443 - val_mae: 0.9902\n",
      "Epoch 49/100\n",
      "253/253 [==============================] - 0s 912us/step - loss: 2.3504 - mae: 0.9531 - val_loss: 2.6451 - val_mae: 0.9894\n",
      "Epoch 49: early stopping\n"
     ]
    }
   ],
   "source": [
    "history = model.fit(train_data.values,\n",
    "                    train_target.values,\n",
    "                    epochs=EPOCHS,\n",
    "                    batch_size=BATCH_SIZE,\n",
    "                    validation_data=(validation_data.values, validation_target.values),\n",
    "                    callbacks=[checkpoint_callback, early_stop_callback],\n",
    "                    verbose=1,\n",
    "                    shuffle=False)"
   ],
   "metadata": {
    "collapsed": false
   }
  },
  {
   "cell_type": "code",
   "execution_count": 20,
   "outputs": [
    {
     "data": {
      "text/plain": "[array([[ 0.3849631 ,  0.36455053, -0.18348569, -0.25858933,  0.20845348,\n          0.4341777 ,  0.1894198 ,  0.41314727, -0.3965223 ,  0.08271998,\n          0.33341515,  0.39293844, -0.51846874,  0.170672  ,  0.23567486,\n         -0.3980596 ],\n        [-0.16077116, -0.46103567, -0.32413238,  0.15853906,  0.463979  ,\n         -0.12807384,  0.02651584, -0.4420137 ,  0.08933306,  0.40930492,\n         -0.11580798,  0.43358076,  0.51231676, -0.37669212,  0.23828036,\n          0.30397534],\n        [-0.23379686, -0.20324528,  0.08433563,  0.36422044,  0.25482464,\n         -0.30773354,  0.43957567,  0.10650128, -0.37641698,  0.47552723,\n         -0.35377532,  0.29090482,  0.44008785,  0.04914433,  0.18365479,\n          0.31120092],\n        [-0.20438713,  0.24421525, -0.02881831, -0.4091599 , -0.01654428,\n         -0.3785702 ,  0.23923832,  0.13176793, -0.05205405, -0.17248645,\n          0.2799809 , -0.25406316, -0.40026253, -0.29564548, -0.41801253,\n          0.46406937],\n        [-0.42489213,  0.49326795, -0.3753646 ,  0.11486822,  0.31294084,\n         -0.447767  ,  0.51041275,  0.3284098 ,  0.5036263 ,  0.04495269,\n         -0.213579  ,  0.25470752, -0.42504597,  0.30430996,  0.44912106,\n          0.31192303]], dtype=float32),\n array([0., 0., 0., 0., 0., 0., 0., 0., 0., 0., 0., 0., 0., 0., 0., 0.],\n       dtype=float32),\n array([[-0.391922  , -0.03572083,  0.15971172, -0.06658316, -0.10058033,\n          0.12201095,  0.2692485 ,  0.33930683],\n        [ 0.48551786,  0.27147985, -0.32370818,  0.37466693, -0.41592395,\n          0.39473438, -0.14913142,  0.06196356],\n        [-0.40386927,  0.14957726, -0.38771117, -0.3769604 ,  0.10162747,\n         -0.2592616 , -0.12427723,  0.39120185],\n        [ 0.47621655,  0.19138229,  0.16221273,  0.3540653 , -0.48720622,\n          0.0145514 ,  0.12864268, -0.02819884],\n        [-0.05283225,  0.0466783 , -0.24975097,  0.42195463, -0.06223035,\n          0.10471189, -0.4784001 , -0.38326716],\n        [-0.26947153,  0.41775   , -0.46527052,  0.23902202, -0.04551423,\n          0.198928  , -0.2254045 ,  0.21332848],\n        [ 0.30515492, -0.3535651 , -0.15960646, -0.22189033, -0.13641918,\n         -0.00496924, -0.04909456, -0.23289514],\n        [ 0.418329  , -0.46007133,  0.2955686 , -0.21973455, -0.0696553 ,\n          0.14108801, -0.2593906 ,  0.11831987],\n        [ 0.43093932, -0.49002683,  0.10131323,  0.07270181, -0.23228252,\n          0.17423165, -0.28601015, -0.0975095 ],\n        [ 0.02525055, -0.31227422, -0.4818468 , -0.38723898, -0.33411837,\n          0.16385686, -0.15854907, -0.2822945 ],\n        [ 0.3437928 ,  0.2187382 , -0.02618659,  0.29597712,  0.31207108,\n         -0.15528   , -0.02776694, -0.25991917],\n        [-0.17397904,  0.02120948, -0.06086886,  0.42754078,  0.13949668,\n          0.40875208, -0.03378248,  0.1067028 ],\n        [ 0.22800148, -0.18320608,  0.39140677, -0.16047072,  0.17047715,\n          0.30599213, -0.14716542, -0.03896236],\n        [-0.39422095, -0.05121493,  0.13587213,  0.20397234,  0.06360173,\n         -0.03051317,  0.02411664,  0.18371701],\n        [ 0.07677484,  0.1507479 ,  0.00412643,  0.33220863,  0.4053825 ,\n         -0.26101124,  0.41999424, -0.47756743],\n        [ 0.30012405, -0.08705938,  0.34005046, -0.14098012, -0.10394537,\n          0.41785514,  0.15631282, -0.39282358]], dtype=float32),\n array([0., 0., 0., 0., 0., 0., 0., 0.], dtype=float32),\n array([[ 0.11802667,  0.30917627, -0.52851576, -0.3509654 ],\n        [-0.04652303,  0.03399462,  0.0660485 ,  0.55809325],\n        [-0.589616  ,  0.664776  , -0.5583886 , -0.38008282],\n        [-0.2936698 , -0.4791289 , -0.5443665 , -0.23090252],\n        [ 0.3393169 ,  0.21684349, -0.19595635,  0.39124888],\n        [ 0.63281685, -0.363307  , -0.18124712,  0.41743082],\n        [ 0.04965407,  0.48731345,  0.46307415,  0.4579442 ],\n        [ 0.13275313, -0.09752274, -0.5032546 ,  0.08076632]],\n       dtype=float32),\n array([0., 0., 0., 0.], dtype=float32),\n array([[0.16257882],\n        [0.76699495],\n        [0.29396677],\n        [0.736184  ]], dtype=float32),\n array([0.], dtype=float32)]"
     },
     "execution_count": 20,
     "metadata": {},
     "output_type": "execute_result"
    }
   ],
   "source": [
    "model.get_weights()"
   ],
   "metadata": {
    "collapsed": false
   }
  },
  {
   "cell_type": "code",
   "execution_count": 25,
   "outputs": [
    {
     "name": "stdout",
     "output_type": "stream",
     "text": [
      "631/631 [==============================] - 0s 604us/step - loss: 1.8178 - mae: 0.8407\n",
      "Loss = 1.817826509475708\n",
      " MSE = 0.8407487869262695\n"
     ]
    }
   ],
   "source": [
    "test_loss, test_mae = model.evaluate(test_data, test_target)\n",
    "print(f'Loss = {test_loss}\\n MSE = {test_mae}')"
   ],
   "metadata": {
    "collapsed": false
   }
  },
  {
   "cell_type": "code",
   "execution_count": 26,
   "outputs": [
    {
     "name": "stdout",
     "output_type": "stream",
     "text": [
      "631/631 [==============================] - 0s 540us/step\n"
     ]
    }
   ],
   "source": [
    "predictions = model.predict(test_data.values)"
   ],
   "metadata": {
    "collapsed": false
   }
  },
  {
   "cell_type": "code",
   "execution_count": 27,
   "outputs": [],
   "source": [
    "test_label_series = test_target.reset_index(drop=True)"
   ],
   "metadata": {
    "collapsed": false
   }
  },
  {
   "cell_type": "code",
   "execution_count": 28,
   "outputs": [
    {
     "data": {
      "text/plain": "       control_law\n0        -1.789619\n1        -1.799524\n2        -1.809353\n3        -1.819108\n4        -1.827531\n...            ...\n20183     6.886008\n20184     9.883266\n20185    10.000000\n20186     9.367737\n20187     9.079013\n\n[20188 rows x 1 columns]",
      "text/html": "<div>\n<style scoped>\n    .dataframe tbody tr th:only-of-type {\n        vertical-align: middle;\n    }\n\n    .dataframe tbody tr th {\n        vertical-align: top;\n    }\n\n    .dataframe thead th {\n        text-align: right;\n    }\n</style>\n<table border=\"1\" class=\"dataframe\">\n  <thead>\n    <tr style=\"text-align: right;\">\n      <th></th>\n      <th>control_law</th>\n    </tr>\n  </thead>\n  <tbody>\n    <tr>\n      <th>0</th>\n      <td>-1.789619</td>\n    </tr>\n    <tr>\n      <th>1</th>\n      <td>-1.799524</td>\n    </tr>\n    <tr>\n      <th>2</th>\n      <td>-1.809353</td>\n    </tr>\n    <tr>\n      <th>3</th>\n      <td>-1.819108</td>\n    </tr>\n    <tr>\n      <th>4</th>\n      <td>-1.827531</td>\n    </tr>\n    <tr>\n      <th>...</th>\n      <td>...</td>\n    </tr>\n    <tr>\n      <th>20183</th>\n      <td>6.886008</td>\n    </tr>\n    <tr>\n      <th>20184</th>\n      <td>9.883266</td>\n    </tr>\n    <tr>\n      <th>20185</th>\n      <td>10.000000</td>\n    </tr>\n    <tr>\n      <th>20186</th>\n      <td>9.367737</td>\n    </tr>\n    <tr>\n      <th>20187</th>\n      <td>9.079013</td>\n    </tr>\n  </tbody>\n</table>\n<p>20188 rows × 1 columns</p>\n</div>"
     },
     "execution_count": 28,
     "metadata": {},
     "output_type": "execute_result"
    }
   ],
   "source": [
    "test_label_series"
   ],
   "metadata": {
    "collapsed": false
   }
  },
  {
   "cell_type": "code",
   "execution_count": 30,
   "outputs": [],
   "source": [
    "predictions_dataframe = pd.DataFrame(predictions, index=None)"
   ],
   "metadata": {
    "collapsed": false
   }
  },
  {
   "cell_type": "code",
   "execution_count": 31,
   "outputs": [
    {
     "data": {
      "text/plain": "              0\n0     -1.284077\n1     -1.278054\n2     -1.273290\n3     -1.269659\n4     -1.270681\n...         ...\n20183  7.408186\n20184  9.222316\n20185  9.413616\n20186  9.065416\n20187  8.660155\n\n[20188 rows x 1 columns]",
      "text/html": "<div>\n<style scoped>\n    .dataframe tbody tr th:only-of-type {\n        vertical-align: middle;\n    }\n\n    .dataframe tbody tr th {\n        vertical-align: top;\n    }\n\n    .dataframe thead th {\n        text-align: right;\n    }\n</style>\n<table border=\"1\" class=\"dataframe\">\n  <thead>\n    <tr style=\"text-align: right;\">\n      <th></th>\n      <th>0</th>\n    </tr>\n  </thead>\n  <tbody>\n    <tr>\n      <th>0</th>\n      <td>-1.284077</td>\n    </tr>\n    <tr>\n      <th>1</th>\n      <td>-1.278054</td>\n    </tr>\n    <tr>\n      <th>2</th>\n      <td>-1.273290</td>\n    </tr>\n    <tr>\n      <th>3</th>\n      <td>-1.269659</td>\n    </tr>\n    <tr>\n      <th>4</th>\n      <td>-1.270681</td>\n    </tr>\n    <tr>\n      <th>...</th>\n      <td>...</td>\n    </tr>\n    <tr>\n      <th>20183</th>\n      <td>7.408186</td>\n    </tr>\n    <tr>\n      <th>20184</th>\n      <td>9.222316</td>\n    </tr>\n    <tr>\n      <th>20185</th>\n      <td>9.413616</td>\n    </tr>\n    <tr>\n      <th>20186</th>\n      <td>9.065416</td>\n    </tr>\n    <tr>\n      <th>20187</th>\n      <td>8.660155</td>\n    </tr>\n  </tbody>\n</table>\n<p>20188 rows × 1 columns</p>\n</div>"
     },
     "execution_count": 31,
     "metadata": {},
     "output_type": "execute_result"
    }
   ],
   "source": [
    "predictions_dataframe"
   ],
   "metadata": {
    "collapsed": false
   }
  },
  {
   "cell_type": "code",
   "execution_count": 32,
   "outputs": [
    {
     "ename": "ValueError",
     "evalue": "If using all scalar values, you must pass an index",
     "output_type": "error",
     "traceback": [
      "\u001B[1;31m---------------------------------------------------------------------------\u001B[0m",
      "\u001B[1;31mValueError\u001B[0m                                Traceback (most recent call last)",
      "Cell \u001B[1;32mIn[32], line 1\u001B[0m\n\u001B[1;32m----> 1\u001B[0m compare_test_predict \u001B[38;5;241m=\u001B[39m \u001B[43mpd\u001B[49m\u001B[38;5;241;43m.\u001B[39;49m\u001B[43mDataFrame\u001B[49m\u001B[43m(\u001B[49m\u001B[43m{\u001B[49m\u001B[38;5;124;43m'\u001B[39;49m\u001B[38;5;124;43mlabel\u001B[39;49m\u001B[38;5;124;43m'\u001B[39;49m\u001B[43m:\u001B[49m\u001B[43m \u001B[49m\u001B[43mtest_label_series\u001B[49m\u001B[43m,\u001B[49m\u001B[43m \u001B[49m\u001B[38;5;124;43m'\u001B[39;49m\u001B[38;5;124;43mprediction\u001B[39;49m\u001B[38;5;124;43m'\u001B[39;49m\u001B[43m:\u001B[49m\u001B[43m \u001B[49m\u001B[43mpredictions_dataframe\u001B[49m\u001B[43m}\u001B[49m\u001B[43m,\u001B[49m\u001B[43m \u001B[49m\u001B[43mindex\u001B[49m\u001B[38;5;241;43m=\u001B[39;49m\u001B[38;5;28;43;01mNone\u001B[39;49;00m\u001B[43m)\u001B[49m\n",
      "File \u001B[1;32mC:\\PROGRAMACION\\PENDULO INVERTIDO\\Pendulo Invertido Diego\\Python-Furuta-Pendulum\\.venv\\lib\\site-packages\\pandas\\core\\frame.py:664\u001B[0m, in \u001B[0;36mDataFrame.__init__\u001B[1;34m(self, data, index, columns, dtype, copy)\u001B[0m\n\u001B[0;32m    658\u001B[0m     mgr \u001B[38;5;241m=\u001B[39m \u001B[38;5;28mself\u001B[39m\u001B[38;5;241m.\u001B[39m_init_mgr(\n\u001B[0;32m    659\u001B[0m         data, axes\u001B[38;5;241m=\u001B[39m{\u001B[38;5;124m\"\u001B[39m\u001B[38;5;124mindex\u001B[39m\u001B[38;5;124m\"\u001B[39m: index, \u001B[38;5;124m\"\u001B[39m\u001B[38;5;124mcolumns\u001B[39m\u001B[38;5;124m\"\u001B[39m: columns}, dtype\u001B[38;5;241m=\u001B[39mdtype, copy\u001B[38;5;241m=\u001B[39mcopy\n\u001B[0;32m    660\u001B[0m     )\n\u001B[0;32m    662\u001B[0m \u001B[38;5;28;01melif\u001B[39;00m \u001B[38;5;28misinstance\u001B[39m(data, \u001B[38;5;28mdict\u001B[39m):\n\u001B[0;32m    663\u001B[0m     \u001B[38;5;66;03m# GH#38939 de facto copy defaults to False only in non-dict cases\u001B[39;00m\n\u001B[1;32m--> 664\u001B[0m     mgr \u001B[38;5;241m=\u001B[39m \u001B[43mdict_to_mgr\u001B[49m\u001B[43m(\u001B[49m\u001B[43mdata\u001B[49m\u001B[43m,\u001B[49m\u001B[43m \u001B[49m\u001B[43mindex\u001B[49m\u001B[43m,\u001B[49m\u001B[43m \u001B[49m\u001B[43mcolumns\u001B[49m\u001B[43m,\u001B[49m\u001B[43m \u001B[49m\u001B[43mdtype\u001B[49m\u001B[38;5;241;43m=\u001B[39;49m\u001B[43mdtype\u001B[49m\u001B[43m,\u001B[49m\u001B[43m \u001B[49m\u001B[43mcopy\u001B[49m\u001B[38;5;241;43m=\u001B[39;49m\u001B[43mcopy\u001B[49m\u001B[43m,\u001B[49m\u001B[43m \u001B[49m\u001B[43mtyp\u001B[49m\u001B[38;5;241;43m=\u001B[39;49m\u001B[43mmanager\u001B[49m\u001B[43m)\u001B[49m\n\u001B[0;32m    665\u001B[0m \u001B[38;5;28;01melif\u001B[39;00m \u001B[38;5;28misinstance\u001B[39m(data, ma\u001B[38;5;241m.\u001B[39mMaskedArray):\n\u001B[0;32m    666\u001B[0m     \u001B[38;5;28;01mimport\u001B[39;00m \u001B[38;5;21;01mnumpy\u001B[39;00m\u001B[38;5;21;01m.\u001B[39;00m\u001B[38;5;21;01mma\u001B[39;00m\u001B[38;5;21;01m.\u001B[39;00m\u001B[38;5;21;01mmrecords\u001B[39;00m \u001B[38;5;28;01mas\u001B[39;00m \u001B[38;5;21;01mmrecords\u001B[39;00m\n",
      "File \u001B[1;32mC:\\PROGRAMACION\\PENDULO INVERTIDO\\Pendulo Invertido Diego\\Python-Furuta-Pendulum\\.venv\\lib\\site-packages\\pandas\\core\\internals\\construction.py:493\u001B[0m, in \u001B[0;36mdict_to_mgr\u001B[1;34m(data, index, columns, dtype, typ, copy)\u001B[0m\n\u001B[0;32m    489\u001B[0m     \u001B[38;5;28;01melse\u001B[39;00m:\n\u001B[0;32m    490\u001B[0m         \u001B[38;5;66;03m# dtype check to exclude e.g. range objects, scalars\u001B[39;00m\n\u001B[0;32m    491\u001B[0m         arrays \u001B[38;5;241m=\u001B[39m [x\u001B[38;5;241m.\u001B[39mcopy() \u001B[38;5;28;01mif\u001B[39;00m \u001B[38;5;28mhasattr\u001B[39m(x, \u001B[38;5;124m\"\u001B[39m\u001B[38;5;124mdtype\u001B[39m\u001B[38;5;124m\"\u001B[39m) \u001B[38;5;28;01melse\u001B[39;00m x \u001B[38;5;28;01mfor\u001B[39;00m x \u001B[38;5;129;01min\u001B[39;00m arrays]\n\u001B[1;32m--> 493\u001B[0m \u001B[38;5;28;01mreturn\u001B[39;00m \u001B[43marrays_to_mgr\u001B[49m\u001B[43m(\u001B[49m\u001B[43marrays\u001B[49m\u001B[43m,\u001B[49m\u001B[43m \u001B[49m\u001B[43mcolumns\u001B[49m\u001B[43m,\u001B[49m\u001B[43m \u001B[49m\u001B[43mindex\u001B[49m\u001B[43m,\u001B[49m\u001B[43m \u001B[49m\u001B[43mdtype\u001B[49m\u001B[38;5;241;43m=\u001B[39;49m\u001B[43mdtype\u001B[49m\u001B[43m,\u001B[49m\u001B[43m \u001B[49m\u001B[43mtyp\u001B[49m\u001B[38;5;241;43m=\u001B[39;49m\u001B[43mtyp\u001B[49m\u001B[43m,\u001B[49m\u001B[43m \u001B[49m\u001B[43mconsolidate\u001B[49m\u001B[38;5;241;43m=\u001B[39;49m\u001B[43mcopy\u001B[49m\u001B[43m)\u001B[49m\n",
      "File \u001B[1;32mC:\\PROGRAMACION\\PENDULO INVERTIDO\\Pendulo Invertido Diego\\Python-Furuta-Pendulum\\.venv\\lib\\site-packages\\pandas\\core\\internals\\construction.py:118\u001B[0m, in \u001B[0;36marrays_to_mgr\u001B[1;34m(arrays, columns, index, dtype, verify_integrity, typ, consolidate)\u001B[0m\n\u001B[0;32m    115\u001B[0m \u001B[38;5;28;01mif\u001B[39;00m verify_integrity:\n\u001B[0;32m    116\u001B[0m     \u001B[38;5;66;03m# figure out the index, if necessary\u001B[39;00m\n\u001B[0;32m    117\u001B[0m     \u001B[38;5;28;01mif\u001B[39;00m index \u001B[38;5;129;01mis\u001B[39;00m \u001B[38;5;28;01mNone\u001B[39;00m:\n\u001B[1;32m--> 118\u001B[0m         index \u001B[38;5;241m=\u001B[39m \u001B[43m_extract_index\u001B[49m\u001B[43m(\u001B[49m\u001B[43marrays\u001B[49m\u001B[43m)\u001B[49m\n\u001B[0;32m    119\u001B[0m     \u001B[38;5;28;01melse\u001B[39;00m:\n\u001B[0;32m    120\u001B[0m         index \u001B[38;5;241m=\u001B[39m ensure_index(index)\n",
      "File \u001B[1;32mC:\\PROGRAMACION\\PENDULO INVERTIDO\\Pendulo Invertido Diego\\Python-Furuta-Pendulum\\.venv\\lib\\site-packages\\pandas\\core\\internals\\construction.py:656\u001B[0m, in \u001B[0;36m_extract_index\u001B[1;34m(data)\u001B[0m\n\u001B[0;32m    653\u001B[0m         \u001B[38;5;28;01mraise\u001B[39;00m \u001B[38;5;167;01mValueError\u001B[39;00m(\u001B[38;5;124m\"\u001B[39m\u001B[38;5;124mPer-column arrays must each be 1-dimensional\u001B[39m\u001B[38;5;124m\"\u001B[39m)\n\u001B[0;32m    655\u001B[0m \u001B[38;5;28;01mif\u001B[39;00m \u001B[38;5;129;01mnot\u001B[39;00m indexes \u001B[38;5;129;01mand\u001B[39;00m \u001B[38;5;129;01mnot\u001B[39;00m raw_lengths:\n\u001B[1;32m--> 656\u001B[0m     \u001B[38;5;28;01mraise\u001B[39;00m \u001B[38;5;167;01mValueError\u001B[39;00m(\u001B[38;5;124m\"\u001B[39m\u001B[38;5;124mIf using all scalar values, you must pass an index\u001B[39m\u001B[38;5;124m\"\u001B[39m)\n\u001B[0;32m    658\u001B[0m \u001B[38;5;28;01melif\u001B[39;00m have_series:\n\u001B[0;32m    659\u001B[0m     index \u001B[38;5;241m=\u001B[39m union_indexes(indexes)\n",
      "\u001B[1;31mValueError\u001B[0m: If using all scalar values, you must pass an index"
     ]
    }
   ],
   "source": [
    "compare_test_predict = pd.DataFrame({'label': test_label_series, 'prediction': predictions_dataframe}, index=None)"
   ],
   "metadata": {
    "collapsed": false
   }
  },
  {
   "cell_type": "code",
   "execution_count": null,
   "outputs": [],
   "source": [
    "compare_test_predict"
   ],
   "metadata": {
    "collapsed": false
   }
  },
  {
   "cell_type": "code",
   "execution_count": 33,
   "outputs": [],
   "source": [
    "model_folder_path = r'C:\\PROGRAMACION\\PENDULO INVERTIDO\\Pendulo Invertido Diego\\Python-Furuta-Pendulum\\data\\models'\n",
    "model_name = 'swing_up_real.h5'"
   ],
   "metadata": {
    "collapsed": false
   }
  },
  {
   "cell_type": "code",
   "execution_count": 34,
   "outputs": [],
   "source": [
    "model_save_path = os.path.join(model_folder_path, model_name)"
   ],
   "metadata": {
    "collapsed": false
   }
  },
  {
   "cell_type": "code",
   "execution_count": 35,
   "outputs": [],
   "source": [
    "model.save(model_save_path)"
   ],
   "metadata": {
    "collapsed": false
   }
  },
  {
   "cell_type": "code",
   "execution_count": null,
   "outputs": [],
   "source": [
    "# tf.saved_model.save(model, r'C:\\Users\\diego\\OneDrive\\Documentos\\PENDULO INVERTIDO\\Pendulo Invertido Diego\\PenduloInvertidoGit\\Python\\models')"
   ],
   "metadata": {
    "collapsed": false
   }
  },
  {
   "cell_type": "code",
   "execution_count": 36,
   "outputs": [],
   "source": [
    "def plot_loss_comparation(history):\n",
    "  loss = history.history.get('loss')\n",
    "  validation_loss = history.history.get('val_loss')\n",
    "  epochs = range(1, len(loss) + 1, 1)\n",
    "\n",
    "  plt.plot(epochs, loss, 'r--', label='Training loss')\n",
    "  plt.plot(epochs, validation_loss, 'b', label='Validation loss')\n",
    "  plt.ylabel('Loss')\n",
    "  plt.xlabel('Epochs')\n",
    "  plt.title('Training loss vs Validation loss')\n",
    "\n",
    "  plt.legend()\n",
    "  plt.show()"
   ],
   "metadata": {
    "collapsed": false
   }
  },
  {
   "cell_type": "code",
   "execution_count": 42,
   "outputs": [],
   "source": [
    "def plot_accuracy_comparation(history):\n",
    "  accuracy = history.history.get('mae')\n",
    "  validation_accuracy = history.history.get('val_,ae')\n",
    "  epochs = range(1, len(accuracy) + 1, 1)\n",
    "\n",
    "  plt.plot(epochs, accuracy, 'r--', label='Training MAE')\n",
    "  plt.plot(epochs, validation_accuracy, 'b', label='Validation MAE')\n",
    "  plt.ylabel('MAE')\n",
    "  plt.xlabel('Epochs')\n",
    "  plt.title('Training MAE vs Validation MAE')\n",
    "\n",
    "  plt.legend()\n",
    "  plt.show()"
   ],
   "metadata": {
    "collapsed": false
   }
  },
  {
   "cell_type": "code",
   "execution_count": 37,
   "outputs": [
    {
     "data": {
      "text/plain": "<Figure size 640x480 with 1 Axes>",
      "image/png": "[encoded data removed]"
     },
     "metadata": {},
     "output_type": "display_data"
    }
   ],
   "source": [
    "plot_loss_comparation(history=history)"
   ],
   "metadata": {
    "collapsed": false
   }
  },
  {
   "cell_type": "code",
   "execution_count": 44,
   "outputs": [
    {
     "ename": "ValueError",
     "evalue": "x, y, and format string must not be None",
     "output_type": "error",
     "traceback": [
      "\u001B[1;31m---------------------------------------------------------------------------\u001B[0m",
      "\u001B[1;31mValueError\u001B[0m                                Traceback (most recent call last)",
      "Cell \u001B[1;32mIn[44], line 1\u001B[0m\n\u001B[1;32m----> 1\u001B[0m \u001B[43mplot_accuracy_comparation\u001B[49m\u001B[43m(\u001B[49m\u001B[43mhistory\u001B[49m\u001B[38;5;241;43m=\u001B[39;49m\u001B[43mhistory\u001B[49m\u001B[43m)\u001B[49m\n",
      "Cell \u001B[1;32mIn[42], line 7\u001B[0m, in \u001B[0;36mplot_accuracy_comparation\u001B[1;34m(history)\u001B[0m\n\u001B[0;32m      4\u001B[0m epochs \u001B[38;5;241m=\u001B[39m \u001B[38;5;28mrange\u001B[39m(\u001B[38;5;241m1\u001B[39m, \u001B[38;5;28mlen\u001B[39m(accuracy) \u001B[38;5;241m+\u001B[39m \u001B[38;5;241m1\u001B[39m, \u001B[38;5;241m1\u001B[39m)\n\u001B[0;32m      6\u001B[0m plt\u001B[38;5;241m.\u001B[39mplot(epochs, accuracy, \u001B[38;5;124m'\u001B[39m\u001B[38;5;124mr--\u001B[39m\u001B[38;5;124m'\u001B[39m, label\u001B[38;5;241m=\u001B[39m\u001B[38;5;124m'\u001B[39m\u001B[38;5;124mTraining MAE\u001B[39m\u001B[38;5;124m'\u001B[39m)\n\u001B[1;32m----> 7\u001B[0m \u001B[43mplt\u001B[49m\u001B[38;5;241;43m.\u001B[39;49m\u001B[43mplot\u001B[49m\u001B[43m(\u001B[49m\u001B[43mepochs\u001B[49m\u001B[43m,\u001B[49m\u001B[43m \u001B[49m\u001B[43mvalidation_accuracy\u001B[49m\u001B[43m,\u001B[49m\u001B[43m \u001B[49m\u001B[38;5;124;43m'\u001B[39;49m\u001B[38;5;124;43mb\u001B[39;49m\u001B[38;5;124;43m'\u001B[39;49m\u001B[43m,\u001B[49m\u001B[43m \u001B[49m\u001B[43mlabel\u001B[49m\u001B[38;5;241;43m=\u001B[39;49m\u001B[38;5;124;43m'\u001B[39;49m\u001B[38;5;124;43mValidation MAE\u001B[39;49m\u001B[38;5;124;43m'\u001B[39;49m\u001B[43m)\u001B[49m\n\u001B[0;32m      8\u001B[0m plt\u001B[38;5;241m.\u001B[39mylabel(\u001B[38;5;124m'\u001B[39m\u001B[38;5;124mMAE\u001B[39m\u001B[38;5;124m'\u001B[39m)\n\u001B[0;32m      9\u001B[0m plt\u001B[38;5;241m.\u001B[39mxlabel(\u001B[38;5;124m'\u001B[39m\u001B[38;5;124mEpochs\u001B[39m\u001B[38;5;124m'\u001B[39m)\n",
      "File \u001B[1;32mC:\\PROGRAMACION\\PENDULO INVERTIDO\\Pendulo Invertido Diego\\Python-Furuta-Pendulum\\.venv\\lib\\site-packages\\matplotlib\\pyplot.py:2812\u001B[0m, in \u001B[0;36mplot\u001B[1;34m(scalex, scaley, data, *args, **kwargs)\u001B[0m\n\u001B[0;32m   2810\u001B[0m \u001B[38;5;129m@_copy_docstring_and_deprecators\u001B[39m(Axes\u001B[38;5;241m.\u001B[39mplot)\n\u001B[0;32m   2811\u001B[0m \u001B[38;5;28;01mdef\u001B[39;00m \u001B[38;5;21mplot\u001B[39m(\u001B[38;5;241m*\u001B[39margs, scalex\u001B[38;5;241m=\u001B[39m\u001B[38;5;28;01mTrue\u001B[39;00m, scaley\u001B[38;5;241m=\u001B[39m\u001B[38;5;28;01mTrue\u001B[39;00m, data\u001B[38;5;241m=\u001B[39m\u001B[38;5;28;01mNone\u001B[39;00m, \u001B[38;5;241m*\u001B[39m\u001B[38;5;241m*\u001B[39mkwargs):\n\u001B[1;32m-> 2812\u001B[0m     \u001B[38;5;28;01mreturn\u001B[39;00m gca()\u001B[38;5;241m.\u001B[39mplot(\n\u001B[0;32m   2813\u001B[0m         \u001B[38;5;241m*\u001B[39margs, scalex\u001B[38;5;241m=\u001B[39mscalex, scaley\u001B[38;5;241m=\u001B[39mscaley,\n\u001B[0;32m   2814\u001B[0m         \u001B[38;5;241m*\u001B[39m\u001B[38;5;241m*\u001B[39m({\u001B[38;5;124m\"\u001B[39m\u001B[38;5;124mdata\u001B[39m\u001B[38;5;124m\"\u001B[39m: data} \u001B[38;5;28;01mif\u001B[39;00m data \u001B[38;5;129;01mis\u001B[39;00m \u001B[38;5;129;01mnot\u001B[39;00m \u001B[38;5;28;01mNone\u001B[39;00m \u001B[38;5;28;01melse\u001B[39;00m {}), \u001B[38;5;241m*\u001B[39m\u001B[38;5;241m*\u001B[39mkwargs)\n",
      "File \u001B[1;32mC:\\PROGRAMACION\\PENDULO INVERTIDO\\Pendulo Invertido Diego\\Python-Furuta-Pendulum\\.venv\\lib\\site-packages\\matplotlib\\axes\\_axes.py:1688\u001B[0m, in \u001B[0;36mAxes.plot\u001B[1;34m(self, scalex, scaley, data, *args, **kwargs)\u001B[0m\n\u001B[0;32m   1445\u001B[0m \u001B[38;5;250m\u001B[39m\u001B[38;5;124;03m\"\"\"\u001B[39;00m\n\u001B[0;32m   1446\u001B[0m \u001B[38;5;124;03mPlot y versus x as lines and/or markers.\u001B[39;00m\n\u001B[0;32m   1447\u001B[0m \n\u001B[1;32m   (...)\u001B[0m\n\u001B[0;32m   1685\u001B[0m \u001B[38;5;124;03m(``'green'``) or hex strings (``'#008000'``).\u001B[39;00m\n\u001B[0;32m   1686\u001B[0m \u001B[38;5;124;03m\"\"\"\u001B[39;00m\n\u001B[0;32m   1687\u001B[0m kwargs \u001B[38;5;241m=\u001B[39m cbook\u001B[38;5;241m.\u001B[39mnormalize_kwargs(kwargs, mlines\u001B[38;5;241m.\u001B[39mLine2D)\n\u001B[1;32m-> 1688\u001B[0m lines \u001B[38;5;241m=\u001B[39m [\u001B[38;5;241m*\u001B[39m\u001B[38;5;28mself\u001B[39m\u001B[38;5;241m.\u001B[39m_get_lines(\u001B[38;5;241m*\u001B[39margs, data\u001B[38;5;241m=\u001B[39mdata, \u001B[38;5;241m*\u001B[39m\u001B[38;5;241m*\u001B[39mkwargs)]\n\u001B[0;32m   1689\u001B[0m \u001B[38;5;28;01mfor\u001B[39;00m line \u001B[38;5;129;01min\u001B[39;00m lines:\n\u001B[0;32m   1690\u001B[0m     \u001B[38;5;28mself\u001B[39m\u001B[38;5;241m.\u001B[39madd_line(line)\n",
      "File \u001B[1;32mC:\\PROGRAMACION\\PENDULO INVERTIDO\\Pendulo Invertido Diego\\Python-Furuta-Pendulum\\.venv\\lib\\site-packages\\matplotlib\\axes\\_base.py:311\u001B[0m, in \u001B[0;36m_process_plot_var_args.__call__\u001B[1;34m(self, data, *args, **kwargs)\u001B[0m\n\u001B[0;32m    309\u001B[0m     this \u001B[38;5;241m+\u001B[39m\u001B[38;5;241m=\u001B[39m args[\u001B[38;5;241m0\u001B[39m],\n\u001B[0;32m    310\u001B[0m     args \u001B[38;5;241m=\u001B[39m args[\u001B[38;5;241m1\u001B[39m:]\n\u001B[1;32m--> 311\u001B[0m \u001B[38;5;28;01myield from\u001B[39;00m \u001B[38;5;28;43mself\u001B[39;49m\u001B[38;5;241;43m.\u001B[39;49m\u001B[43m_plot_args\u001B[49m\u001B[43m(\u001B[49m\n\u001B[0;32m    312\u001B[0m \u001B[43m    \u001B[49m\u001B[43mthis\u001B[49m\u001B[43m,\u001B[49m\u001B[43m \u001B[49m\u001B[43mkwargs\u001B[49m\u001B[43m,\u001B[49m\u001B[43m \u001B[49m\u001B[43mambiguous_fmt_datakey\u001B[49m\u001B[38;5;241;43m=\u001B[39;49m\u001B[43mambiguous_fmt_datakey\u001B[49m\u001B[43m)\u001B[49m\n",
      "File \u001B[1;32mC:\\PROGRAMACION\\PENDULO INVERTIDO\\Pendulo Invertido Diego\\Python-Furuta-Pendulum\\.venv\\lib\\site-packages\\matplotlib\\axes\\_base.py:465\u001B[0m, in \u001B[0;36m_process_plot_var_args._plot_args\u001B[1;34m(self, tup, kwargs, return_kwargs, ambiguous_fmt_datakey)\u001B[0m\n\u001B[0;32m    462\u001B[0m \u001B[38;5;66;03m# Don't allow any None value; these would be up-converted to one\u001B[39;00m\n\u001B[0;32m    463\u001B[0m \u001B[38;5;66;03m# element array of None which causes problems downstream.\u001B[39;00m\n\u001B[0;32m    464\u001B[0m \u001B[38;5;28;01mif\u001B[39;00m \u001B[38;5;28many\u001B[39m(v \u001B[38;5;129;01mis\u001B[39;00m \u001B[38;5;28;01mNone\u001B[39;00m \u001B[38;5;28;01mfor\u001B[39;00m v \u001B[38;5;129;01min\u001B[39;00m tup):\n\u001B[1;32m--> 465\u001B[0m     \u001B[38;5;28;01mraise\u001B[39;00m \u001B[38;5;167;01mValueError\u001B[39;00m(\u001B[38;5;124m\"\u001B[39m\u001B[38;5;124mx, y, and format string must not be None\u001B[39m\u001B[38;5;124m\"\u001B[39m)\n\u001B[0;32m    467\u001B[0m kw \u001B[38;5;241m=\u001B[39m {}\n\u001B[0;32m    468\u001B[0m \u001B[38;5;28;01mfor\u001B[39;00m prop_name, val \u001B[38;5;129;01min\u001B[39;00m \u001B[38;5;28mzip\u001B[39m((\u001B[38;5;124m'\u001B[39m\u001B[38;5;124mlinestyle\u001B[39m\u001B[38;5;124m'\u001B[39m, \u001B[38;5;124m'\u001B[39m\u001B[38;5;124mmarker\u001B[39m\u001B[38;5;124m'\u001B[39m, \u001B[38;5;124m'\u001B[39m\u001B[38;5;124mcolor\u001B[39m\u001B[38;5;124m'\u001B[39m),\n\u001B[0;32m    469\u001B[0m                           (linestyle, marker, color)):\n",
      "\u001B[1;31mValueError\u001B[0m: x, y, and format string must not be None"
     ]
    },
    {
     "data": {
      "text/plain": "<Figure size 640x480 with 1 Axes>",
      "image/png": "[encoded data removed]"
     },
     "metadata": {},
     "output_type": "display_data"
    }
   ],
   "source": [
    "plot_accuracy_comparation(history=history)"
   ],
   "metadata": {
    "collapsed": false
   }
  },
  {
   "cell_type": "code",
   "execution_count": null,
   "outputs": [],
   "source": [
    "tf.saved_model.load(r'C:\\Users\\diego\\OneDrive\\Documentos\\PENDULO INVERTIDO\\Pendulo Invertido Diego\\PenduloInvertidoGit\\Python\\source')"
   ],
   "metadata": {
    "collapsed": false
   }
  }
 ],
 "metadata": {
  "kernelspec": {
   "display_name": "Python 3",
   "language": "python",
   "name": "python3"
  },
  "language_info": {
   "codemirror_mode": {
    "name": "ipython",
    "version": 2
   },
   "file_extension": ".py",
   "mimetype": "text/x-python",
   "name": "python",
   "nbconvert_exporter": "python",
   "pygments_lexer": "ipython2",
   "version": "2.7.6"
  }
 },
 "nbformat": 4,
 "nbformat_minor": 0
}
